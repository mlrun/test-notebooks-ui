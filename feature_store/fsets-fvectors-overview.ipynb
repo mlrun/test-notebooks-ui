{
 "cells": [
  {
   "cell_type": "code",
   "execution_count": 1,
   "metadata": {},
   "outputs": [
    {
     "name": "stdout",
     "output_type": "stream",
     "text": [
      "> 2025-03-12 17:18:15,535 [info] Project loaded successfully: {\"project_name\":\"feature-sets\"}\n"
     ]
    }
   ],
   "source": [
    "import mlrun\n",
    "from mlrun import  get_or_create_project\n",
    "project_name = \"feature-sets\"\n",
    "project = get_or_create_project(project_name, context=\"./\")"
   ]
  },
  {
   "cell_type": "code",
   "execution_count": 2,
   "metadata": {},
   "outputs": [],
   "source": [
    "import mlrun.feature_store as fs\n",
    "from mlrun.feature_store.steps import *\n",
    "from mlrun.features import MinMaxValidator\n",
    "from mlrun.datastore.targets import ParquetTarget, NoSqlTarget,CSVTarget"
   ]
  },
  {
   "cell_type": "code",
   "execution_count": 3,
   "metadata": {},
   "outputs": [],
   "source": [
    "import pandas as pd\n",
    "quotes = pd.DataFrame(\n",
    "    {\n",
    "        \"time\": [\n",
    "            pd.Timestamp(\"2016-05-25 13:30:00.023\"),\n",
    "            pd.Timestamp(\"2016-05-25 13:30:00.023\"),\n",
    "            pd.Timestamp(\"2016-05-25 13:30:00.030\"),\n",
    "            pd.Timestamp(\"2016-05-25 13:30:00.041\"),\n",
    "            pd.Timestamp(\"2016-05-25 13:30:00.048\"),\n",
    "            pd.Timestamp(\"2016-05-25 13:30:00.049\"),\n",
    "            pd.Timestamp(\"2016-05-25 13:30:00.072\"),\n",
    "            pd.Timestamp(\"2016-05-25 13:30:00.075\")\n",
    "        ],\n",
    "        \"ticker\": [\n",
    "               \"GOOG\",\n",
    "               \"MSFT\",\n",
    "               \"MSFT\",\n",
    "               \"MSFT\",\n",
    "               \"GOOG\",\n",
    "               \"AAPL\",\n",
    "               \"GOOG\",\n",
    "               \"MSFT\"\n",
    "           ],\n",
    "           \"bid\": [720.50, 51.95, 51.97, 51.99, 720.50, 97.99, 720.50, 52.01],\n",
    "           \"ask\": [720.93, 51.96, 51.98, 52.00, 720.93, 98.01, 720.88, 52.03],\n",
    "    }\n",
    ")\n",
    "\n",
    "trades = pd.DataFrame(\n",
    "       {\n",
    "           \"time\": [\n",
    "               pd.Timestamp(\"2016-05-25 13:30:00.023\"),\n",
    "               pd.Timestamp(\"2016-05-25 13:30:00.038\"),\n",
    "               pd.Timestamp(\"2016-05-25 13:30:00.048\"),\n",
    "               pd.Timestamp(\"2016-05-25 13:30:00.048\"),\n",
    "               pd.Timestamp(\"2016-05-25 13:30:00.048\")\n",
    "           ],\n",
    "           \"ticker\": [\"MSFT\", \"MSFT\", \"GOOG\", \"GOOG\", \"AAPL\"],\n",
    "           \"price\": [51.95, 51.95, 720.77, 720.92, 98.0],\n",
    "           \"quantity\": [75, 155, 100, 100, 100]\n",
    "       }\n",
    ")\n",
    "\n",
    "\n",
    "stocks = pd.DataFrame(\n",
    "       {\n",
    "           \"ticker\": [\"MSFT\", \"GOOG\", \"AAPL\"],\n",
    "           \"name\": [\"Microsoft Corporation\", \"Alphabet Inc\", \"Apple Inc\"],\n",
    "           \"exchange\": [\"NASDAQ\", \"NASDAQ\", \"NASDAQ\"]\n",
    "       }\n",
    ")\n"
   ]
  },
  {
   "cell_type": "code",
   "execution_count": 4,
   "metadata": {},
   "outputs": [],
   "source": [
    "import datetime\n",
    "def move_date(df, col):\n",
    "    max_date = df[col].max()\n",
    "    now_date = datetime.datetime.now()\n",
    "    delta = now_date - max_date \n",
    "    df[col] = df[col] + delta \n",
    "    return df"
   ]
  },
  {
   "cell_type": "code",
   "execution_count": 5,
   "metadata": {},
   "outputs": [],
   "source": [
    "quotes = move_date(quotes, \"time\")\n",
    "trades = move_date(trades, \"time\")"
   ]
  },
  {
   "cell_type": "markdown",
   "metadata": {},
   "source": [
    "## Creating fs with 5 tags"
   ]
  },
  {
   "cell_type": "code",
   "execution_count": 7,
   "metadata": {},
   "outputs": [],
   "source": [
    "import mlrun.feature_store as fs\n",
    "from mlrun.feature_store import FeatureSet, Entity\n",
    "for i in range(5):\n",
    "    quotes_set = fs.FeatureSet(\"quotes\", \"my_quotes_description1234567890\",entities=[fs.Entity(\"ticker\")], timestamp_key= \"time\")\n",
    "    quotes_set.metadata.labels = {'label-key1': 'label-value1','label-key2': 'label-value2','label-key3': 'label-value3','label-key4': 'label-value4','label-key5': 'label-value5','label-key6': 'label-value6','label-key7': 'label-value7','label-key7': 'label-value7','label-key9': 'label-value9','label-key10': 'label-value10'}\n",
    "    #quotes_set.set_targets()\n",
    "    partition_cols = ['ask', '$key']\n",
    "    targets = [ParquetTarget(partitioned=True, partition_cols=partition_cols), NoSqlTarget(), CSVTarget() ]\n",
    "    quotes_set.spec.label_column= 'ticker'\n",
    "    quotes_set.spec.partition_keys = 'ticker'\n",
    "    quotes_set.spec.relations={'key':'value','key2':'value2'}\n",
    "    quotes_set[\"bid\"] = fs.Feature(description= \"desc_bid\",labels= {'bid-key1': 'bid-value1'}, validator=MinMaxValidator(min=55, severity=\"info\"))\n",
    "    quotes_set.save(tag='tag'+str(i), versioned=True)\n",
    "    ingest_df = quotes_set.ingest(quotes, targets, infer_options=fs.InferOptions.default())"
   ]
  },
  {
   "cell_type": "markdown",
   "metadata": {},
   "source": [
    "## Creating fv"
   ]
  },
  {
   "cell_type": "code",
   "execution_count": 8,
   "metadata": {},
   "outputs": [
    {
     "name": "stdout",
     "output_type": "stream",
     "text": [
      "Error occurred\n"
     ]
    }
   ],
   "source": [
    "features = [\n",
    "    \"quotes.*\"\n",
    "]\n",
    "\n",
    "vector = fs.FeatureVector(\"vector-name\",features=features,description=\"this is my vector\")\n",
    "vector.metadata.labels = {'label-key1': 'label-value1','label-key2': 'label-value2','label-key3': 'label-value3',}\n",
    "svc = vector.get_online_feature_service()\n",
    "resp = svc.get([{\"ticker\": \"MSFT\"}, {\"ticker\": \"AAPL\"}])\n",
    "try:\n",
    "    resp1 = vector.get_offline_features()\n",
    "except:\n",
    "    print(\"Error occurred\")"
   ]
  }
 ],
 "metadata": {
  "kernelspec": {
   "display_name": "mlrun-env",
   "language": "python",
   "name": "python3"
  },
  "language_info": {
   "codemirror_mode": {
    "name": "ipython",
    "version": 3
   },
   "file_extension": ".py",
   "mimetype": "text/x-python",
   "name": "python",
   "nbconvert_exporter": "python",
   "pygments_lexer": "ipython3",
   "version": "3.9.13"
  }
 },
 "nbformat": 4,
 "nbformat_minor": 4
}
