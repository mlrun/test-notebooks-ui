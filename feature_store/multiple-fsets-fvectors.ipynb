{
 "cells": [
  {
   "cell_type": "code",
   "execution_count": null,
   "id": "f5817ee4-67ff-401c-8ad9-532fdfaf3220",
   "metadata": {},
   "outputs": [],
   "source": [
    "import mlrun\n",
    "import mlrun.feature_store as fs\n",
    "import pandas as pd\n",
    "from mlrun.datastore.targets import ParquetTarget, NoSqlTarget, CSVTarget"
   ]
  },
  {
   "cell_type": "code",
   "execution_count": null,
   "id": "46cfe0f3-b1ae-4d07-8a6e-a16ea5b4bb85",
   "metadata": {},
   "outputs": [],
   "source": [
    "project_name = \"feature-sets\"\n",
    "project = mlrun.get_or_create_project(project_name, context=\"./\")"
   ]
  },
  {
   "cell_type": "markdown",
   "id": "922f19d9-76c6-4948-be0d-dd1efc0d54b4",
   "metadata": {},
   "source": [
    "## Creating y fs"
   ]
  },
  {
   "cell_type": "code",
   "execution_count": null,
   "id": "7f53d59d-157b-4cd1-9615-60cb1f5ce777",
   "metadata": {},
   "outputs": [],
   "source": [
    "y = 20\n",
    "for i in range(1, y):\n",
    "    feature_set = fs.FeatureSet(\n",
    "        f\"cancer_{i}\",\n",
    "        f\"{i} helps identify abnormal cell growth\",\n",
    "        entities=[fs.Entity(\"label\")],\n",
    "    )\n",
    "    feature_set.metadata.labels = {\n",
    "        \"dataset-type\": \"training\",\n",
    "        \"model-version\": \"v1.2\",\n",
    "        \"source\": \"sensor-a\",\n",
    "        \"environment\": \"production\",\n",
    "        \"owner\": \"team-x\",\n",
    "    }\n",
    "    targets = [ParquetTarget(partitioned=False), NoSqlTarget(), CSVTarget()]\n",
    "    features = pd.read_csv(\"./cancer.csv\")\n",
    "    feature_set[\"mean_area\"] = fs.Feature(\n",
    "        description=\"Average area of the object\", labels={\"unit\": \"square centimeters\"}\n",
    "    )\n",
    "    ingest_df = feature_set.ingest(\n",
    "        features, targets, infer_options=fs.InferOptions.default()\n",
    "    )"
   ]
  },
  {
   "cell_type": "markdown",
   "id": "8db674cf-74e3-48a6-97fe-2a4a72d0de80",
   "metadata": {},
   "source": [
    "## Creating fs with x tags"
   ]
  },
  {
   "cell_type": "code",
   "execution_count": null,
   "id": "9dc2fc6b-eda0-411e-a6c6-fb8ee488c7d4",
   "metadata": {},
   "outputs": [],
   "source": [
    "x = 15\n",
    "for i in range(x):\n",
    "    feature_set = fs.FeatureSet(\"cancer_1\", entities=[fs.Entity(\"label\")])\n",
    "    feature_set.save(tag=\"tag\" + str(i), versioned=True)"
   ]
  },
  {
   "cell_type": "markdown",
   "id": "23138365-dde4-4b7b-8bbf-5c76576587a0",
   "metadata": {},
   "source": [
    "## Creating y fv"
   ]
  },
  {
   "cell_type": "code",
   "execution_count": null,
   "id": "1b19a247-8248-492d-84ae-22aa81669351",
   "metadata": {},
   "outputs": [],
   "source": [
    "y = 20\n",
    "for i in range(1, y):\n",
    "    features = [f\"cancer_{i}.*\"]\n",
    "\n",
    "    vector = fs.FeatureVector(\n",
    "        f\"vector_{i}\",\n",
    "        features=features,\n",
    "        description=f\"based on corresponding {i} feature set\",\n",
    "    )\n",
    "    vector.metadata.labels = {\"diagnosis\": \"malignant\", \"sample-origin\": \"biopsy\"}\n",
    "    resp = vector.get_offline_features()"
   ]
  },
  {
   "cell_type": "markdown",
   "id": "85bacfbf-e397-4c8c-a6a8-ffd7df1a1af3",
   "metadata": {},
   "source": [
    "## Creating fv with z tags"
   ]
  },
  {
   "cell_type": "code",
   "execution_count": null,
   "id": "d43bd2ab-67ab-4a1b-b250-2609b07b5f39",
   "metadata": {},
   "outputs": [],
   "source": [
    "z = 15\n",
    "for i in range(z):\n",
    "    features = [\"cancer_1.*\"]\n",
    "\n",
    "    vector = fs.FeatureVector(f\"vector_0\", features=features)\n",
    "    vector.save(tag=\"tag\" + str(i), versioned=True)\n",
    "    resp = vector.get_offline_features()"
   ]
  }
 ],
 "metadata": {
  "kernelspec": {
   "display_name": "mlrun-env",
   "language": "python",
   "name": "python3"
  },
  "language_info": {
   "codemirror_mode": {
    "name": "ipython",
    "version": 3
   },
   "file_extension": ".py",
   "mimetype": "text/x-python",
   "name": "python",
   "nbconvert_exporter": "python",
   "pygments_lexer": "ipython3",
   "version": "3.9.13"
  }
 },
 "nbformat": 4,
 "nbformat_minor": 5
}
