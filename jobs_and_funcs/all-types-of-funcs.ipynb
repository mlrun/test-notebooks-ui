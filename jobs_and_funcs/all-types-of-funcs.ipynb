{
 "cells": [
  {
   "cell_type": "code",
   "execution_count": null,
   "id": "81a1425b-2a93-4ba5-9ff8-3a61f197147f",
   "metadata": {},
   "outputs": [],
   "source": [
    "import mlrun\n",
    "\n",
    "project_name = \"jw-proj\"\n",
    "project = mlrun.get_or_create_project(project_name, \"./\")"
   ]
  },
  {
   "cell_type": "markdown",
   "id": "62680cf2-02cf-4883-84b8-bb3dd1dbcf2d",
   "metadata": {},
   "source": [
    "# Dask"
   ]
  },
  {
   "cell_type": "code",
   "execution_count": null,
   "id": "237b5945-5491-4752-8ee5-2eef81fe5e63",
   "metadata": {},
   "outputs": [],
   "source": [
    "dask_cluster_name = \"dask-cluster\"\n",
    "dask_cluster = mlrun.new_function(dask_cluster_name, kind=\"dask\", image=\"mlrun/mlrun\")\n",
    "\n",
    "dask_cluster.apply(mlrun.mount_v3io())\n",
    "project.set_function(dask_cluster)"
   ]
  },
  {
   "cell_type": "code",
   "execution_count": null,
   "id": "c457de86-1b7e-4515-acd1-eb6f40fd85f0",
   "metadata": {},
   "outputs": [],
   "source": [
    "# set range for # of replicas with replicas and max_replicas\n",
    "dask_cluster.spec.min_replicas = 1\n",
    "dask_cluster.spec.max_replicas = 4\n",
    "\n",
    "# set the use of dask remote cluster (distributed)\n",
    "dask_cluster.spec.remote = True\n",
    "dask_cluster.spec.service_type = \"NodePort\"\n",
    "\n",
    "# set dask memory and cpu limits\n",
    "dask_cluster.with_worker_requests(mem=\"2G\", cpu=\"2\")"
   ]
  },
  {
   "cell_type": "code",
   "execution_count": null,
   "id": "8f6c0f87-5939-4661-bc2b-ff642b375311",
   "metadata": {},
   "outputs": [],
   "source": [
    "def inc(x):\n",
    "    return x + 2"
   ]
  },
  {
   "cell_type": "code",
   "execution_count": null,
   "id": "786a2766-d9ff-4d37-9dc2-f22d44656a56",
   "metadata": {},
   "outputs": [],
   "source": [
    "def hndlr(context, x=1, y=2):\n",
    "    context.logger.info(\"params: x={},y={}\".format(x, y))\n",
    "    x = context.dask_client.submit(inc, x)\n",
    "    print(x.result())\n",
    "    context.log_result(\"dask-try\", x.result())"
   ]
  },
  {
   "cell_type": "code",
   "execution_count": null,
   "id": "5bbfb104-77d5-4f8f-8237-93f66db192fb",
   "metadata": {},
   "outputs": [],
   "source": [
    "myrun = dask_cluster.run(\n",
    "    handler=hndlr, name=\"dask-try\", params={\"x\": 12, \"y\": 3}, watch=False\n",
    ")"
   ]
  },
  {
   "cell_type": "markdown",
   "id": "5813867d-18f5-45f1-917c-aedfa4720e57",
   "metadata": {},
   "source": [
    "# Local"
   ]
  },
  {
   "cell_type": "code",
   "execution_count": null,
   "id": "4a536470-3c2e-4c81-9484-8be6f5161e21",
   "metadata": {},
   "outputs": [],
   "source": [
    "%%writefile data-prep.py\n",
    "\n",
    "import pandas as pd\n",
    "from sklearn.datasets import load_breast_cancer\n",
    "\n",
    "import mlrun\n",
    "\n",
    "\n",
    "@mlrun.handler(outputs=[\"dataset\", \"label_column\"])\n",
    "def breast_cancer_generator():\n",
    "    \"\"\"\n",
    "    A function which generates the breast cancer dataset\n",
    "    \"\"\"\n",
    "    breast_cancer = load_breast_cancer()\n",
    "    breast_cancer_dataset = pd.DataFrame(\n",
    "        data=breast_cancer.data, columns=breast_cancer.feature_names\n",
    "    )\n",
    "    breast_cancer_labels = pd.DataFrame(data=breast_cancer.target, columns=[\"label\"])\n",
    "    breast_cancer_dataset = pd.concat(\n",
    "        [breast_cancer_dataset, breast_cancer_labels], axis=1\n",
    "    )\n",
    "\n",
    "    return breast_cancer_dataset, \"label\""
   ]
  },
  {
   "cell_type": "code",
   "execution_count": null,
   "id": "34edb6a0-5a14-437a-b37e-77eb4604ea40",
   "metadata": {},
   "outputs": [],
   "source": [
    "data_gen_fn = project.set_function(\n",
    "    \"data-prep.py\",\n",
    "    name=\"data-prep\",\n",
    "    kind=\"job\",\n",
    "    image=\"mlrun/mlrun\",\n",
    "    handler=\"breast_cancer_generator\",\n",
    ")"
   ]
  },
  {
   "cell_type": "code",
   "execution_count": null,
   "id": "a38e53fa-3839-46a0-a5d2-a1e6b87f4566",
   "metadata": {},
   "outputs": [],
   "source": [
    "gen_data_run = project.run_function(\"data-prep\", local=True, watch=False)"
   ]
  },
  {
   "cell_type": "markdown",
   "id": "a3ed49a3-7b51-4473-93bc-bc08af46f9ef",
   "metadata": {},
   "source": [
    "# Job"
   ]
  },
  {
   "cell_type": "code",
   "execution_count": null,
   "id": "188199bf-74a7-4983-98fc-beac06fd9b16",
   "metadata": {},
   "outputs": [],
   "source": [
    "# Import the function\n",
    "trainer = mlrun.import_function(\"hub://auto_trainer\")"
   ]
  },
  {
   "cell_type": "code",
   "execution_count": null,
   "id": "738c0442-8ede-434d-bdef-063b0a0472b0",
   "metadata": {},
   "outputs": [],
   "source": [
    "trainer_run = project.run_function(\n",
    "    trainer,\n",
    "    inputs={\"dataset\": gen_data_run.outputs[\"dataset\"]},\n",
    "    params={\n",
    "        \"model_class\": \"sklearn.ensemble.RandomForestClassifier\",\n",
    "        \"train_test_split_size\": 0.2,\n",
    "        \"label_columns\": \"label\",\n",
    "        \"model_name\": \"cancer\",\n",
    "    },\n",
    "    handler=\"train\",\n",
    "    watch=False,\n",
    ")"
   ]
  },
  {
   "cell_type": "markdown",
   "id": "35a202ed",
   "metadata": {},
   "source": [
    "Scheduling"
   ]
  },
  {
   "cell_type": "code",
   "execution_count": null,
   "id": "6ff0ec7e",
   "metadata": {},
   "outputs": [],
   "source": [
    "# schedule for every hour\n",
    "trainer_run = project.run_function(\n",
    "    trainer,\n",
    "    inputs={\"dataset\": gen_data_run.outputs[\"dataset\"]},\n",
    "    params={\n",
    "        \"model_class\": \"sklearn.ensemble.RandomForestClassifier\",\n",
    "        \"train_test_split_size\": 0.2,\n",
    "        \"label_columns\": \"label\",\n",
    "        \"model_name\": \"cancer\",\n",
    "    },\n",
    "    handler=\"train\",\n",
    "    schedule=\"0 * * * *\",\n",
    ")"
   ]
  },
  {
   "cell_type": "markdown",
   "id": "36a05641-a773-4691-998b-8315d02b89d5",
   "metadata": {},
   "source": [
    "# Serving"
   ]
  },
  {
   "cell_type": "code",
   "execution_count": null,
   "id": "a1d429b8-ca33-488e-bb28-d8e1f5c1609d",
   "metadata": {},
   "outputs": [],
   "source": [
    "serving_fn = mlrun.new_function(\"serving\", image=\"mlrun/mlrun\", kind=\"serving\")\n",
    "serving_fn.add_model(\n",
    "    \"cancer-classifier\",\n",
    "    model_path=trainer_run.outputs[\"model\"],\n",
    "    class_name=\"mlrun.frameworks.sklearn.SklearnModelServer\",\n",
    ")"
   ]
  },
  {
   "cell_type": "code",
   "execution_count": null,
   "id": "6df1a71f-d1ad-4b3d-be99-23e8c56ba475",
   "metadata": {},
   "outputs": [],
   "source": [
    "project.deploy_function(serving_fn)"
   ]
  },
  {
   "cell_type": "code",
   "execution_count": null,
   "id": "21938189-739c-4ccc-b2fb-d16f083a6d55",
   "metadata": {},
   "outputs": [],
   "source": [
    "sample = {\n",
    "    \"inputs\": [\n",
    "        [\n",
    "            1.371e01,\n",
    "            2.083e01,\n",
    "            9.020e01,\n",
    "            5.779e02,\n",
    "            1.189e-01,\n",
    "            1.645e-01,\n",
    "            9.366e-02,\n",
    "            5.985e-02,\n",
    "            2.196e-01,\n",
    "            7.451e-02,\n",
    "            5.835e-01,\n",
    "            1.377e00,\n",
    "            3.856e00,\n",
    "            5.096e01,\n",
    "            8.805e-03,\n",
    "            3.029e-02,\n",
    "            2.488e-02,\n",
    "            1.448e-02,\n",
    "            1.486e-02,\n",
    "            5.412e-03,\n",
    "            1.706e01,\n",
    "            2.814e01,\n",
    "            1.106e02,\n",
    "            8.970e02,\n",
    "            1.654e-01,\n",
    "            3.682e-01,\n",
    "            2.678e-01,\n",
    "            1.556e-01,\n",
    "            3.196e-01,\n",
    "            1.151e-01,\n",
    "        ]\n",
    "    ]\n",
    "}"
   ]
  },
  {
   "cell_type": "code",
   "execution_count": null,
   "id": "b0102a9b-903a-4e81-a997-0ea5ae2c17e1",
   "metadata": {},
   "outputs": [],
   "source": [
    "serving_fn.invoke(path=f\"/v2/models/cancer-classifier/infer\", body=sample)"
   ]
  },
  {
   "cell_type": "markdown",
   "id": "03012262-f01b-4bd0-b855-170e92a5b72c",
   "metadata": {},
   "source": [
    "# Handler"
   ]
  },
  {
   "cell_type": "code",
   "execution_count": null,
   "id": "b1f8546f-9b91-4d2c-b079-688f6dff0d51",
   "metadata": {},
   "outputs": [],
   "source": [
    "import pickle\n",
    "from mlrun import new_task\n",
    "\n",
    "!pip install xgboost\n",
    "from xgboost import XGBClassifier\n",
    "\n",
    "from sklearn.datasets import load_iris\n",
    "from sklearn.model_selection import train_test_split"
   ]
  },
  {
   "cell_type": "code",
   "execution_count": null,
   "id": "f47dadd3-a386-48e8-af29-f55edef779a0",
   "metadata": {},
   "outputs": [],
   "source": [
    "def handler(context):\n",
    "    context.set_label(\"category\", \"tests\")\n",
    "    print(\"artifact_path={}\".format(context.artifact_path))\n",
    "    dataset = load_iris(as_frame=True)\n",
    "    clf = XGBClassifier(\n",
    "        n_estimators=2, max_depth=2, learning_rate=1, objective=\"binary:logistic\"\n",
    "    )\n",
    "    X, y = dataset.data, dataset.target\n",
    "    X_train, x_test, y_train, y_test = train_test_split(\n",
    "        X, y, train_size=0.8, test_size=0.2, random_state=0\n",
    "    )\n",
    "    clf.fit(X_train, y_train)\n",
    "    context.log_model(\n",
    "        \"clf_model\",\n",
    "        body=pickle.dumps(clf),\n",
    "        model_file=\"clf.pkl\",\n",
    "        framework=\"xgboost\",\n",
    "        label_column=\"label\",\n",
    "        tag=\"fgvndgt1\",\n",
    "    )\n",
    "    context.log_dataset(\"ds\", df=x_test, tag=\"fgvndgt\")"
   ]
  },
  {
   "cell_type": "code",
   "execution_count": null,
   "id": "95c3c135-950e-4d5a-b6b5-5f3b3ac3dcbf",
   "metadata": {},
   "outputs": [],
   "source": [
    "task = new_task(name=\"kmqrijzfki\", handler=handler, project=project_name, **{})\n",
    "func = mlrun.new_function(name=\"func\", kind=\"job\", image=\"mlrun/mlrun\")\n",
    "func.save()\n",
    "run_object = mlrun.run_function(func, local=True, base_task=task, watch=False)"
   ]
  },
  {
   "cell_type": "markdown",
   "id": "5ca8d7cd-708e-42c2-a111-cc6b41078c1a",
   "metadata": {},
   "source": [
    "# Nuclio"
   ]
  },
  {
   "cell_type": "code",
   "execution_count": null,
   "id": "d8334ea5-26c3-4a3b-a0f3-18f6ea08f3d3",
   "metadata": {},
   "outputs": [],
   "source": [
    "%%writefile nuclio-func.py\n",
    "\n",
    "import socket\n",
    "import pandas as pd\n",
    "\n",
    "\n",
    "def hyper_func2(context, data, p1, p2, p3):\n",
    "    print(data.as_df().head())\n",
    "    context.logger.info(f\"p2={p2}, p3={p3}, r1={p2 * p3} at {socket.gethostname()}\")\n",
    "    context.log_result(\"r1\", p2 * p3)\n",
    "    raw_data = {\n",
    "        \"first_name\": [\"Jason\", \"Molly\", \"Tina\", \"Jake\", \"Amy\"],\n",
    "        \"age\": [42, 52, 36, 24, 73],\n",
    "        \"testScore\": [25, 94, 57, 62, 70],\n",
    "    }\n",
    "    df = pd.DataFrame(raw_data, columns=[\"first_name\", \"age\", \"testScore\"])\n",
    "    context.log_dataset(\"mydf\", df=df, stats=True)"
   ]
  },
  {
   "cell_type": "code",
   "execution_count": null,
   "id": "1ee003cb-258b-446e-a7db-c40314dfe4cb",
   "metadata": {},
   "outputs": [],
   "source": [
    "fn = mlrun.code_to_function(\n",
    "    filename=\"nuclio-func.py\",\n",
    "    handler=\"hyper_func2\",\n",
    "    name=\"hyper-tst2\",\n",
    "    kind=\"nuclio:mlrun\",\n",
    "    image=\"mlrun/mlrun\",\n",
    ")\n",
    "# replicas * workers need to match or exceed parallel_runs\n",
    "fn.spec.replicas = 2\n",
    "fn.with_http(workers=2)\n",
    "fn.deploy()"
   ]
  },
  {
   "cell_type": "code",
   "execution_count": null,
   "id": "555c247d-322f-416d-90c5-d91e8826ef71",
   "metadata": {},
   "outputs": [],
   "source": [
    "import nest_asyncio\n",
    "\n",
    "nest_asyncio.apply()"
   ]
  },
  {
   "cell_type": "code",
   "execution_count": null,
   "id": "8211e905-2909-48c9-bb14-a2e260aad80e",
   "metadata": {},
   "outputs": [],
   "source": [
    "grid_params = {\"p2\": [2, 1, 4, 1], \"p3\": [10, 20]}\n",
    "task = mlrun.new_task(\n",
    "    params={\"p1\": 8},\n",
    "    inputs={\"data\": \"https://s3.wasabisys.com/iguazio/data/iris/iris_dataset.csv\"},\n",
    ")\n",
    "task.with_hyper_params(\n",
    "    grid_params, selector=\"r1\", strategy=\"grid\", parallel_runs=4, max_errors=3\n",
    ")\n",
    "run = fn.run(task, watch=False)"
   ]
  },
  {
   "cell_type": "markdown",
   "id": "9b464aea-601e-4837-846b-9823b4f14e8c",
   "metadata": {},
   "source": [
    "# Mpi"
   ]
  },
  {
   "cell_type": "code",
   "execution_count": null,
   "id": "5ebb819e-8a9c-4f77-81eb-96c9800ff100",
   "metadata": {},
   "outputs": [],
   "source": [
    "%%writefile mpi-func.py\n",
    "\n",
    "import time\n",
    "\n",
    "def do_nothing():\n",
    "\ttime.sleep(0)\n",
    "\treturn \"nevermind\""
   ]
  },
  {
   "cell_type": "code",
   "execution_count": null,
   "id": "08793ebf-c763-4a68-9758-76612abb4ba6",
   "metadata": {},
   "outputs": [],
   "source": [
    "mpijob = mlrun.code_to_function(\n",
    "    name=\"mpijob-func\",\n",
    "    filename=\"mpi-func.py\",\n",
    "    kind=\"mpijob\",\n",
    "    image=\"mlrun/mlrun\",\n",
    "    handler=\"do_nothing\",\n",
    ")"
   ]
  },
  {
   "cell_type": "code",
   "execution_count": null,
   "id": "87e8346e-424d-40c5-bd45-c79bd64eebf0",
   "metadata": {},
   "outputs": [],
   "source": [
    "mpijob.spec.replicas = 3"
   ]
  },
  {
   "cell_type": "code",
   "execution_count": null,
   "id": "e1b84150-da22-4027-91b9-ce57bad874de",
   "metadata": {},
   "outputs": [],
   "source": [
    "mpijob.run(watch=False)"
   ]
  },
  {
   "cell_type": "markdown",
   "id": "104ca4dc",
   "metadata": {},
   "source": [
    "Scheduling"
   ]
  },
  {
   "cell_type": "code",
   "execution_count": null,
   "id": "0ce33c57",
   "metadata": {},
   "outputs": [],
   "source": [
    "# schedule for once a week\n",
    "mpijob.run(schedule=\"0 0 * * 0\")"
   ]
  },
  {
   "cell_type": "markdown",
   "id": "b25f18ea-bae5-4681-b031-27026fb9123f",
   "metadata": {},
   "source": [
    "# Application"
   ]
  },
  {
   "cell_type": "code",
   "execution_count": null,
   "id": "21c1a8c0-f6cf-4e83-ba14-4cc46a90de13",
   "metadata": {},
   "outputs": [],
   "source": [
    "# Specify pre built vizro image\n",
    "application = project.set_function(\n",
    "    name=\"vizro\", kind=\"application\", image=\"kharchukt/vizro\"\n",
    ")\n",
    "application.set_internal_application_port(8050)\n",
    "# Deploy to nuclio\n",
    "application.deploy()"
   ]
  },
  {
   "cell_type": "code",
   "execution_count": null,
   "id": "bd5673fc-f57d-461b-b034-e6993c40db5f",
   "metadata": {},
   "outputs": [],
   "source": [
    "# Test invocation\n",
    "application.invoke(\"/\", verify=False)"
   ]
  },
  {
   "cell_type": "markdown",
   "id": "23116812-6dac-49ae-84fe-2575a6fd9308",
   "metadata": {},
   "source": [
    "# Spark"
   ]
  },
  {
   "cell_type": "code",
   "execution_count": null,
   "id": "e76dc52e-71f7-4613-8083-3c4d89bbae47",
   "metadata": {},
   "outputs": [],
   "source": [
    "def my_spark(context=None):\n",
    "    from time import sleep\n",
    "\n",
    "    sleep(0)"
   ]
  },
  {
   "cell_type": "code",
   "execution_count": null,
   "id": "ef5cb854-6147-48ba-9997-322d07ee7776",
   "metadata": {},
   "outputs": [],
   "source": [
    "from mlrun.run import new_function\n",
    "\n",
    "function_pbvtwxlwcd = new_function(\n",
    "    kind=\"spark\",\n",
    "    command=\"/v3io/bigdata/naipi_files/pyspark_basic_tests.py\",\n",
    "    name=\"tqrcj\",\n",
    ")\n",
    "if None:\n",
    "    function_pbvtwxlwcd.set_state_thresholds(None)\n",
    "function_pbvtwxlwcd.metadata.tag = \"\"\n",
    "\n",
    "function_pbvtwxlwcd.with_executor_limits(cpu=\"2200m\")\n",
    "function_pbvtwxlwcd.with_driver_limits(cpu=\"2500m\")\n",
    "project.set_function(function_pbvtwxlwcd)\n",
    "function_pbvtwxlwcd.with_executor_requests(mem=\"1G\", cpu=\"0.1\")\n",
    "function_pbvtwxlwcd.with_driver_requests(mem=\"1G\", cpu=\"0.1\")\n",
    "function_pbvtwxlwcd.spec.replicas = 2\n",
    "function_pbvtwxlwcd.with_igz_spark()\n",
    "function_pbvtwxlwcd.spec.args = [\"--json-path=/v3io/bigdata/imdb_movies.json\"]\n",
    "function_pbvtwxlwcd.spec.deps[\"jars\"] += [\n",
    "    \"local:///spark/3rd_party/mysql-connector-java-8.0.13.jar\"\n",
    "]\n",
    "sr = function_pbvtwxlwcd.run(\n",
    "    artifact_path=\"/User/artifacts\", watch=False, notifications=[]\n",
    ")"
   ]
  },
  {
   "cell_type": "markdown",
   "id": "1115da32",
   "metadata": {},
   "source": [
    "Scheduling"
   ]
  },
  {
   "cell_type": "code",
   "execution_count": null,
   "id": "3bdfd02c",
   "metadata": {},
   "outputs": [],
   "source": [
    "# schedule for once a month\n",
    "sr = function_pbvtwxlwcd.run(\n",
    "    artifact_path=\"/User/artifacts\", notifications=[], schedule=\"0 0 1 * *\"\n",
    ")"
   ]
  },
  {
   "cell_type": "markdown",
   "id": "3005020e-28ce-49e5-92f8-b1526f20a76b",
   "metadata": {},
   "source": [
    "# Databriks"
   ]
  },
  {
   "cell_type": "code",
   "execution_count": null,
   "id": "f934e312-cf4b-4ca8-b24f-4bc9d84ebc0f",
   "metadata": {},
   "outputs": [],
   "source": [
    "import os\n",
    "from mlrun.runtimes.function_reference import FunctionReference"
   ]
  },
  {
   "cell_type": "code",
   "execution_count": null,
   "id": "a459b5c7-9c1f-49aa-aa28-7fba111c3468",
   "metadata": {},
   "outputs": [],
   "source": [
    "# If using a Databricks data store, for example, set the credentials:\n",
    "os.environ[\"DATABRICKS_HOST\"] = \"DATABRICKS_HOST\"\n",
    "os.environ[\"DATABRICKS_TOKEN\"] = \"DATABRICKS_TOKEN\"\n",
    "os.environ[\"DATABRICKS_CLUSTER_ID\"] = \"DATABRICKS_CLUSTER_ID\""
   ]
  },
  {
   "cell_type": "code",
   "execution_count": null,
   "id": "f8594c3e-177a-4c6a-aae2-263577dfb374",
   "metadata": {},
   "outputs": [],
   "source": [
    "def add_databricks_env(function):\n",
    "    job_env = {\n",
    "        \"DATABRICKS_HOST\": os.environ[\"DATABRICKS_HOST\"],\n",
    "        \"DATABRICKS_CLUSTER_ID\": os.environ.get(\"DATABRICKS_CLUSTER_ID\"),\n",
    "    }\n",
    "\n",
    "    for name, val in job_env.items():\n",
    "        function.spec.env.append({\"name\": name, \"value\": val})"
   ]
  },
  {
   "cell_type": "code",
   "execution_count": null,
   "id": "0614b58a-53fa-4b5d-a862-2ccc0fdba2be",
   "metadata": {},
   "outputs": [],
   "source": [
    "secrets = {\"DATABRICKS_TOKEN\": os.environ[\"DATABRICKS_TOKEN\"]}\n",
    "\n",
    "project.set_secrets(secrets)\n",
    "\n",
    "code = \"\"\"\n",
    "def print_kwargs(**kwargs):\n",
    "    print(f\"kwargs: {kwargs}\")\n",
    "\"\"\"\n",
    "\n",
    "function_ref = FunctionReference(\n",
    "    kind=\"databricks\",\n",
    "    code=code,\n",
    "    image=\"mlrun/mlrun\",\n",
    "    name=\"databricks-function\",\n",
    ")\n",
    "\n",
    "function = function_ref.to_function()\n",
    "\n",
    "add_databricks_env(function=function)\n",
    "\n",
    "run = function.run(\n",
    "    handler=\"print_kwargs\",\n",
    "    project=project_name,\n",
    "    params={\n",
    "        \"param1\": \"value1\",\n",
    "        \"param2\": \"value2\",\n",
    "        # \"task_parameters\": {\"timeout_minutes\": 1},\n",
    "    },\n",
    "    watch=False,\n",
    ")"
   ]
  },
  {
   "cell_type": "markdown",
   "id": "9aed9c16",
   "metadata": {},
   "source": [
    "Scheduling"
   ]
  },
  {
   "cell_type": "code",
   "execution_count": null,
   "id": "4903628c-0da5-4ac2-9933-a38a9c5f178d",
   "metadata": {},
   "outputs": [],
   "source": [
    "# schedule for once a year\n",
    "run = function.run(\n",
    "    handler=\"print_kwargs\",\n",
    "    project=project_name,\n",
    "    params={\n",
    "        \"param1\": \"value1\",\n",
    "        \"param2\": \"value2\",\n",
    "        # \"task_parameters\": {\"timeout_minutes\": 1},\n",
    "    },\n",
    "    schedule=\"0 0 1 1 *\",\n",
    ")"
   ]
  }
 ],
 "metadata": {
  "kernelspec": {
   "display_name": "mlrun-env",
   "language": "python",
   "name": "python3"
  },
  "language_info": {
   "codemirror_mode": {
    "name": "ipython",
    "version": 3
   },
   "file_extension": ".py",
   "mimetype": "text/x-python",
   "name": "python",
   "nbconvert_exporter": "python",
   "pygments_lexer": "ipython3",
   "version": "3.9.13"
  }
 },
 "nbformat": 4,
 "nbformat_minor": 5
}
