{
 "cells": [
  {
   "cell_type": "code",
   "execution_count": 32,
   "id": "e91b38ee-1107-49a4-9d0f-3f60fde53e86",
   "metadata": {},
   "outputs": [
    {
     "name": "stdout",
     "output_type": "stream",
     "text": [
      "> 2025-03-14 15:54:07,484 [info] Project loaded successfully: {\"project_name\":\"jw-proj\"}\n"
     ]
    }
   ],
   "source": [
    "import mlrun\n",
    "\n",
    "project_name = \"jw-proj\"\n",
    "project = mlrun.get_or_create_project(project_name)"
   ]
  },
  {
   "cell_type": "code",
   "execution_count": 33,
   "id": "004b6a6b",
   "metadata": {},
   "outputs": [
    {
     "data": {
      "text/plain": [
       "<mlrun.projects.project.MlrunProject at 0x28d200ace80>"
      ]
     },
     "execution_count": 33,
     "metadata": {},
     "output_type": "execute_result"
    }
   ],
   "source": [
    "project.spec.artifact_path=\"v3io:///projects/jw-proj/artifacts/\"\n",
    "project.save()"
   ]
  },
  {
   "cell_type": "markdown",
   "id": "d1f7137d-e07e-42cd-8bd4-911ea3b65e39",
   "metadata": {},
   "source": [
    "## Function that will fail"
   ]
  },
  {
   "cell_type": "code",
   "execution_count": 34,
   "id": "9f3cb11d-36ef-4629-a94a-6604be303c05",
   "metadata": {},
   "outputs": [
    {
     "name": "stdout",
     "output_type": "stream",
     "text": [
      "Overwriting ./func-error.py\n"
     ]
    }
   ],
   "source": [
    "%%writefile ./func-error.py\n",
    "def func(i):\n",
    "    i = i+1\n",
    "    raise ValueError()\n",
    "    return i"
   ]
  },
  {
   "cell_type": "code",
   "execution_count": 35,
   "id": "1a46dfce-2aa7-4913-aa3f-c7ea30d2afe6",
   "metadata": {},
   "outputs": [],
   "source": [
    "func = project.set_function(\n",
    "    func=\"./func-error.py\",\n",
    "    name=\"func-error\",\n",
    "    kind=\"job\",\n",
    "    handler=\"func\",\n",
    "    image=\"mlrun/mlrun\",\n",
    ")"
   ]
  },
  {
   "cell_type": "code",
   "execution_count": 36,
   "id": "3200248b-f839-48f8-bdbc-70948223c9f3",
   "metadata": {},
   "outputs": [
    {
     "name": "stderr",
     "output_type": "stream",
     "text": [
      "The `overwrite_build_params` parameter default will change from 'False' to 'True' in 1.9.0.\n"
     ]
    },
    {
     "data": {
      "text/plain": [
       "BuildStatus(ready=True, outputs={'image': 'mlrun/mlrun'})"
      ]
     },
     "execution_count": 36,
     "metadata": {},
     "output_type": "execute_result"
    }
   ],
   "source": [
    "project.build_function(func)"
   ]
  },
  {
   "cell_type": "markdown",
   "id": "bf864eee-2652-43c5-be9f-62c5327567e0",
   "metadata": {},
   "source": [
    "## Job with status error"
   ]
  },
  {
   "cell_type": "code",
   "execution_count": 37,
   "id": "26a238b8-5d22-40cb-99f9-8019932fe0d7",
   "metadata": {},
   "outputs": [
    {
     "name": "stdout",
     "output_type": "stream",
     "text": [
      "> 2025-03-14 15:54:38,951 [info] Storing function: {\"db\":\"https://mlrun-api.default-tenant.app.vmdev54.lab.iguazeng.com\",\"name\":\"func-error-func\",\"uid\":\"fd8c4f5f097e4201b5e25d19938dc4a2\"}\n",
      "> 2025-03-14 15:54:45,109 [info] Job is running in the background, pod: func-error-func-qfj8t\n"
     ]
    },
    {
     "data": {
      "text/html": [
       "<style>\n",
       ".dictlist {\n",
       "  background-color: #4EC64B;\n",
       "  text-align: center;\n",
       "  margin: 4px;\n",
       "  border-radius: 3px; padding: 0px 3px 1px 3px; display: inline-block;}\n",
       ".artifact {\n",
       "  cursor: pointer;\n",
       "  background-color: #4EC64B;\n",
       "  text-align: left;\n",
       "  margin: 4px; border-radius: 3px; padding: 0px 3px 1px 3px; display: inline-block;\n",
       "}\n",
       "div.block.hidden {\n",
       "  display: none;\n",
       "}\n",
       ".clickable {\n",
       "  cursor: pointer;\n",
       "}\n",
       ".ellipsis {\n",
       "  display: inline-block;\n",
       "  max-width: 60px;\n",
       "  white-space: nowrap;\n",
       "  overflow: hidden;\n",
       "  text-overflow: ellipsis;\n",
       "}\n",
       ".master-wrapper {\n",
       "  display: flex;\n",
       "  flex-flow: row nowrap;\n",
       "  justify-content: flex-start;\n",
       "  align-items: stretch;\n",
       "}\n",
       ".master-tbl {\n",
       "  flex: 3\n",
       "}\n",
       ".master-wrapper > div {\n",
       "  margin: 4px;\n",
       "  padding: 10px;\n",
       "}\n",
       "iframe.fileview {\n",
       "  border: 0 none;\n",
       "  height: 100%;\n",
       "  width: 100%;\n",
       "  white-space: pre-wrap;\n",
       "}\n",
       ".pane-header-title {\n",
       "  width: 80%;\n",
       "  font-weight: 500;\n",
       "}\n",
       ".pane-header {\n",
       "  line-height: 1;\n",
       "  background-color: #4EC64B;\n",
       "  padding: 3px;\n",
       "}\n",
       ".pane-header .close {\n",
       "  font-size: 20px;\n",
       "  font-weight: 700;\n",
       "  float: right;\n",
       "  margin-top: -5px;\n",
       "}\n",
       ".master-wrapper .right-pane {\n",
       "  border: 1px inset silver;\n",
       "  width: 40%;\n",
       "  min-height: 300px;\n",
       "  flex: 3\n",
       "  min-width: 500px;\n",
       "}\n",
       ".master-wrapper * {\n",
       "  box-sizing: border-box;\n",
       "}\n",
       "</style><script>\n",
       "function copyToClipboard(fld) {\n",
       "    if (document.queryCommandSupported && document.queryCommandSupported('copy')) {\n",
       "        var textarea = document.createElement('textarea');\n",
       "        textarea.textContent = fld.innerHTML;\n",
       "        textarea.style.position = 'fixed';\n",
       "        document.body.appendChild(textarea);\n",
       "        textarea.select();\n",
       "\n",
       "        try {\n",
       "            return document.execCommand('copy'); // Security exception may be thrown by some browsers.\n",
       "        } catch (ex) {\n",
       "\n",
       "        } finally {\n",
       "            document.body.removeChild(textarea);\n",
       "        }\n",
       "    }\n",
       "}\n",
       "function expandPanel(el) {\n",
       "  const panelName = \"#\" + el.getAttribute('paneName');\n",
       "\n",
       "  // Get the base URL of the current notebook\n",
       "  var baseUrl = window.location.origin;\n",
       "\n",
       "  // Construct the full URL\n",
       "  var fullUrl = new URL(el.title, baseUrl).href;\n",
       "\n",
       "  document.querySelector(panelName + \"-title\").innerHTML = fullUrl\n",
       "  iframe = document.querySelector(panelName + \"-body\");\n",
       "\n",
       "  const tblcss = `<style> body { font-family: Arial, Helvetica, sans-serif;}\n",
       "    #csv { margin-bottom: 15px; }\n",
       "    #csv table { border-collapse: collapse;}\n",
       "    #csv table td { padding: 4px 8px; border: 1px solid silver;} </style>`;\n",
       "\n",
       "  function csvToHtmlTable(str) {\n",
       "    return '<div id=\"csv\"><table><tr><td>' +  str.replace(/[\\n\\r]+$/g, '').replace(/[\\n\\r]+/g, '</td></tr><tr><td>')\n",
       "      .replace(/,/g, '</td><td>') + '</td></tr></table></div>';\n",
       "  }\n",
       "\n",
       "  function reqListener () {\n",
       "    if (fullUrl.endsWith(\".csv\")) {\n",
       "      iframe.setAttribute(\"srcdoc\", tblcss + csvToHtmlTable(this.responseText));\n",
       "    } else {\n",
       "      iframe.setAttribute(\"srcdoc\", this.responseText);\n",
       "    }\n",
       "    console.log(this.responseText);\n",
       "  }\n",
       "\n",
       "  const oReq = new XMLHttpRequest();\n",
       "  oReq.addEventListener(\"load\", reqListener);\n",
       "  oReq.open(\"GET\", fullUrl);\n",
       "  oReq.send();\n",
       "\n",
       "\n",
       "  //iframe.src = fullUrl;\n",
       "  const resultPane = document.querySelector(panelName + \"-pane\");\n",
       "  if (resultPane.classList.contains(\"hidden\")) {\n",
       "    resultPane.classList.remove(\"hidden\");\n",
       "  }\n",
       "}\n",
       "function closePanel(el) {\n",
       "  const panelName = \"#\" + el.getAttribute('paneName')\n",
       "  const resultPane = document.querySelector(panelName + \"-pane\");\n",
       "  if (!resultPane.classList.contains(\"hidden\")) {\n",
       "    resultPane.classList.add(\"hidden\");\n",
       "  }\n",
       "}\n",
       "\n",
       "</script>\n",
       "<div class=\"master-wrapper\">\n",
       "  <div class=\"block master-tbl\"><div>\n",
       "<style scoped>\n",
       "    .dataframe tbody tr th:only-of-type {\n",
       "        vertical-align: middle;\n",
       "    }\n",
       "\n",
       "    .dataframe tbody tr th {\n",
       "        vertical-align: top;\n",
       "    }\n",
       "\n",
       "    .dataframe thead th {\n",
       "        text-align: right;\n",
       "    }\n",
       "</style>\n",
       "<table border=\"1\" class=\"dataframe\">\n",
       "  <thead>\n",
       "    <tr style=\"text-align: right;\">\n",
       "      <th>project</th>\n",
       "      <th>uid</th>\n",
       "      <th>iter</th>\n",
       "      <th>start</th>\n",
       "      <th>end</th>\n",
       "      <th>state</th>\n",
       "      <th>kind</th>\n",
       "      <th>name</th>\n",
       "      <th>labels</th>\n",
       "      <th>inputs</th>\n",
       "      <th>parameters</th>\n",
       "      <th>results</th>\n",
       "    </tr>\n",
       "  </thead>\n",
       "  <tbody>\n",
       "    <tr>\n",
       "      <td>jw-proj</td>\n",
       "      <td><div title=\"fd8c4f5f097e4201b5e25d19938dc4a2\">...8dc4a2</div></td>\n",
       "      <td>0</td>\n",
       "      <td>Mar 14 13:54:45</td>\n",
       "      <td>NaT</td>\n",
       "      <td>running</td>\n",
       "      <td></td>\n",
       "      <td>func-error-func</td>\n",
       "      <td><div class=\"dictlist\">v3io_user=normal-user</div><div class=\"dictlist\">kind=job</div><div class=\"dictlist\">owner=normal-user</div><div class=\"dictlist\">mlrun/client_version=1.8.0-rc41</div><div class=\"dictlist\">mlrun/client_python_version=3.9.13</div></td>\n",
       "      <td></td>\n",
       "      <td><div class=\"dictlist\">i=1</div></td>\n",
       "      <td></td>\n",
       "    </tr>\n",
       "  </tbody>\n",
       "</table>\n",
       "</div></div>\n",
       "  <div id=\"result71f46d76-pane\" class=\"right-pane block hidden\">\n",
       "    <div class=\"pane-header\">\n",
       "      <span id=\"result71f46d76-title\" class=\"pane-header-title\">Title</span>\n",
       "      <span onclick=\"closePanel(this)\" paneName=\"result71f46d76\" class=\"close clickable\">&times;</span>\n",
       "    </div>\n",
       "    <iframe class=\"fileview\" id=\"result71f46d76-body\"></iframe>\n",
       "  </div>\n",
       "</div>\n"
      ],
      "text/plain": [
       "<IPython.core.display.HTML object>"
      ]
     },
     "metadata": {},
     "output_type": "display_data"
    },
    {
     "name": "stdout",
     "output_type": "stream",
     "text": [
      "\n"
     ]
    },
    {
     "data": {
      "text/html": [
       "<b> > to track results use the .show() or .logs() methods </b>"
      ],
      "text/plain": [
       "<IPython.core.display.HTML object>"
      ]
     },
     "metadata": {},
     "output_type": "display_data"
    },
    {
     "name": "stdout",
     "output_type": "stream",
     "text": [
      "> 2025-03-14 15:54:45,125 [info] Run execution finished: {\"name\":\"func-error-func\",\"status\":\"running\"}\n"
     ]
    },
    {
     "data": {
      "text/plain": [
       "<mlrun.model.RunObject at 0x28d2022ca60>"
      ]
     },
     "execution_count": 37,
     "metadata": {},
     "output_type": "execute_result"
    }
   ],
   "source": [
    "func.run(params={\"i\": 1}, watch=False)"
   ]
  },
  {
   "cell_type": "markdown",
   "id": "87130f0c-7104-4b2a-95d0-fd937fe29757",
   "metadata": {},
   "source": [
    "## Workflow with status error"
   ]
  },
  {
   "cell_type": "code",
   "execution_count": 38,
   "id": "6af399a0-984b-4ff5-af8a-daa75749a392",
   "metadata": {},
   "outputs": [
    {
     "name": "stdout",
     "output_type": "stream",
     "text": [
      "Overwriting ./workflow-error.py\n"
     ]
    }
   ],
   "source": [
    "%%writefile ./workflow-error.py\n",
    "\n",
    "\n",
    "import mlrun\n",
    "\n",
    "def pipeline():\n",
    "    \n",
    "    step_1 = mlrun.run_function(\"func-error\",params={\"i\":1},outputs=[\"return\"])\n",
    "    step_2 = mlrun.run_function(\"func-error\",params={\"i\":step_1.outputs[\"return\"]},outputs=[\"return\"])\n",
    "    step_3 = mlrun.run_function(\"func-error\",params={\"i\":step_2.outputs[\"return\"]})"
   ]
  },
  {
   "cell_type": "code",
   "execution_count": 52,
   "id": "0ae53ac6-e36d-403a-9216-d4305950ad27",
   "metadata": {},
   "outputs": [
    {
     "data": {
      "text/plain": [
       "<mlrun.projects.project.MlrunProject at 0x28d200ace80>"
      ]
     },
     "execution_count": 52,
     "metadata": {},
     "output_type": "execute_result"
    }
   ],
   "source": [
    "project.set_workflow(\"main-error\", \"./workflow-error.py\")\n",
    "project.save()"
   ]
  },
  {
   "cell_type": "code",
   "execution_count": 60,
   "id": "ba9ec2f6-93d5-4200-9946-66acaecc0eec",
   "metadata": {},
   "outputs": [
    {
     "name": "stdout",
     "output_type": "stream",
     "text": [
      "> 2025-03-14 16:11:09,197 [info] Submitting remote workflow: {\"project_name\":\"jw-proj\",\"schedule\":null,\"workflow_engine\":\"local\"}\n",
      "> 2025-03-14 16:11:17,594 [error] Workflow run failed: {\"exc_info\":[\"Traceback (most recent call last):\\n\",\"  File \\\"c:\\\\Users\\\\tetiana.kharchuk\\\\test-notebooks-ui\\\\mlrun-env\\\\lib\\\\site-packages\\\\mlrun\\\\errors.py\\\", line 96, in raise_for_status\\n    response.raise_for_status()\\n\",\"  File \\\"c:\\\\Users\\\\tetiana.kharchuk\\\\test-notebooks-ui\\\\mlrun-env\\\\lib\\\\site-packages\\\\requests\\\\models.py\\\", line 1024, in raise_for_status\\n    raise HTTPError(http_error_msg, response=self)\\n\",\"requests.exceptions.HTTPError: 400 Client Error: Bad Request for url: https://mlrun-api.default-tenant.app.vmdev54.lab.iguazeng.com/api/v1/projects/jw-proj/workflows/main-error/submit\\n\",\"\\nThe above exception was the direct cause of the following exception:\\n\\n\",\"Traceback (most recent call last):\\n\",\"  File \\\"c:\\\\Users\\\\tetiana.kharchuk\\\\test-notebooks-ui\\\\mlrun-env\\\\lib\\\\site-packages\\\\mlrun\\\\projects\\\\pipelines.py\\\", line 868, in run\\n    workflow_response = run_db.submit_workflow(\\n\",\"  File \\\"c:\\\\Users\\\\tetiana.kharchuk\\\\test-notebooks-ui\\\\mlrun-env\\\\lib\\\\site-packages\\\\mlrun\\\\db\\\\httpdb.py\\\", line 4595, in submit_workflow\\n    response = self.api_call(\\n\",\"  File \\\"c:\\\\Users\\\\tetiana.kharchuk\\\\test-notebooks-ui\\\\mlrun-env\\\\lib\\\\site-packages\\\\mlrun\\\\db\\\\httpdb.py\\\", line 301, in api_call\\n    mlrun.errors.raise_for_status(response, error)\\n\",\"  File \\\"c:\\\\Users\\\\tetiana.kharchuk\\\\test-notebooks-ui\\\\mlrun-env\\\\lib\\\\site-packages\\\\mlrun\\\\errors.py\\\", line 105, in raise_for_status\\n    raise STATUS_ERRORS[status_code](error_message, response=response) from exc\\n\",\"mlrun.errors.MLRunBadRequestError: details: {'reason': 'Workflow failed', 'workflow_name': 'main-error', 'workflow_action': 'run', 'error': 'Project source is required. Either specify the source in the project or provide it in the request.'}\\n\"]}\n"
     ]
    },
    {
     "data": {
      "text/html": [
       "[error] :x: Workflow main-error run failed!, error: details: {'reason': 'Workflow failed', 'workflow_name': 'main-error', 'workflow_action': 'run', 'error': 'Project source is required. Either specify the source in the project or provide it in the request.'}, caused by: 400 Client Error: Bad Request for url: https://mlrun-api.default-tenant.app.vmdev54.lab.iguazeng.com/api/v1/projects/jw-proj/workflows/main-error/submit"
      ],
      "text/plain": [
       "<IPython.core.display.HTML object>"
      ]
     },
     "metadata": {},
     "output_type": "display_data"
    },
    {
     "data": {
      "text/plain": [
       "None"
      ]
     },
     "execution_count": 60,
     "metadata": {},
     "output_type": "execute_result"
    }
   ],
   "source": [
    "project.run(\"main-error\")"
   ]
  },
  {
   "cell_type": "markdown",
   "id": "ed4af16e-c0fd-47b0-823e-6c6cc101b832",
   "metadata": {},
   "source": [
    "## Function that will be succeeded"
   ]
  },
  {
   "cell_type": "code",
   "execution_count": 20,
   "id": "6bb0f28d-2158-49d0-8c0d-13ceb78cdb32",
   "metadata": {},
   "outputs": [
    {
     "name": "stdout",
     "output_type": "stream",
     "text": [
      "Writing ./func-compl.py\n"
     ]
    }
   ],
   "source": [
    "%%writefile ./func-compl.py\n",
    "import time\n",
    "def func(i):\n",
    "    i = i+1\n",
    "    time.sleep(20)\n",
    "    return i"
   ]
  },
  {
   "cell_type": "code",
   "execution_count": 21,
   "id": "40d17ef8-0d5a-4a8d-a80f-a86dd08aab54",
   "metadata": {},
   "outputs": [],
   "source": [
    "func_compl = project.set_function(\n",
    "    func=\"./func-compl.py\",\n",
    "    name=\"func-compl\",\n",
    "    kind=\"job\",\n",
    "    handler=\"func\",\n",
    "    image=\"mlrun/mlrun\",\n",
    ")"
   ]
  },
  {
   "cell_type": "code",
   "execution_count": 22,
   "id": "f40c0950-55c3-4781-8696-ff5514ee73a7",
   "metadata": {},
   "outputs": [
    {
     "name": "stderr",
     "output_type": "stream",
     "text": [
      "The `overwrite_build_params` parameter default will change from 'False' to 'True' in 1.9.0.\n"
     ]
    },
    {
     "data": {
      "text/plain": [
       "BuildStatus(ready=True, outputs={'image': 'mlrun/mlrun'})"
      ]
     },
     "execution_count": 22,
     "metadata": {},
     "output_type": "execute_result"
    }
   ],
   "source": [
    "project.build_function(func_compl)"
   ]
  },
  {
   "cell_type": "markdown",
   "id": "f2125e30-9ab4-4243-ac31-8afa6637eacc",
   "metadata": {},
   "source": [
    "## Job with status completed"
   ]
  },
  {
   "cell_type": "code",
   "execution_count": 23,
   "id": "e4a1286d-dc49-47c9-928b-b6c2c9f3f169",
   "metadata": {},
   "outputs": [
    {
     "name": "stdout",
     "output_type": "stream",
     "text": [
      "> 2025-03-14 15:48:43,798 [info] Storing function: {\"db\":\"https://mlrun-api.default-tenant.app.vmdev54.lab.iguazeng.com\",\"name\":\"func-compl-func\",\"uid\":\"5dd21a315e234e0ebf0beaf28287a836\"}\n",
      "> 2025-03-14 15:48:49,854 [info] Job is running in the background, pod: func-compl-func-rc68x\n"
     ]
    },
    {
     "data": {
      "text/html": [
       "<style>\n",
       ".dictlist {\n",
       "  background-color: #4EC64B;\n",
       "  text-align: center;\n",
       "  margin: 4px;\n",
       "  border-radius: 3px; padding: 0px 3px 1px 3px; display: inline-block;}\n",
       ".artifact {\n",
       "  cursor: pointer;\n",
       "  background-color: #4EC64B;\n",
       "  text-align: left;\n",
       "  margin: 4px; border-radius: 3px; padding: 0px 3px 1px 3px; display: inline-block;\n",
       "}\n",
       "div.block.hidden {\n",
       "  display: none;\n",
       "}\n",
       ".clickable {\n",
       "  cursor: pointer;\n",
       "}\n",
       ".ellipsis {\n",
       "  display: inline-block;\n",
       "  max-width: 60px;\n",
       "  white-space: nowrap;\n",
       "  overflow: hidden;\n",
       "  text-overflow: ellipsis;\n",
       "}\n",
       ".master-wrapper {\n",
       "  display: flex;\n",
       "  flex-flow: row nowrap;\n",
       "  justify-content: flex-start;\n",
       "  align-items: stretch;\n",
       "}\n",
       ".master-tbl {\n",
       "  flex: 3\n",
       "}\n",
       ".master-wrapper > div {\n",
       "  margin: 4px;\n",
       "  padding: 10px;\n",
       "}\n",
       "iframe.fileview {\n",
       "  border: 0 none;\n",
       "  height: 100%;\n",
       "  width: 100%;\n",
       "  white-space: pre-wrap;\n",
       "}\n",
       ".pane-header-title {\n",
       "  width: 80%;\n",
       "  font-weight: 500;\n",
       "}\n",
       ".pane-header {\n",
       "  line-height: 1;\n",
       "  background-color: #4EC64B;\n",
       "  padding: 3px;\n",
       "}\n",
       ".pane-header .close {\n",
       "  font-size: 20px;\n",
       "  font-weight: 700;\n",
       "  float: right;\n",
       "  margin-top: -5px;\n",
       "}\n",
       ".master-wrapper .right-pane {\n",
       "  border: 1px inset silver;\n",
       "  width: 40%;\n",
       "  min-height: 300px;\n",
       "  flex: 3\n",
       "  min-width: 500px;\n",
       "}\n",
       ".master-wrapper * {\n",
       "  box-sizing: border-box;\n",
       "}\n",
       "</style><script>\n",
       "function copyToClipboard(fld) {\n",
       "    if (document.queryCommandSupported && document.queryCommandSupported('copy')) {\n",
       "        var textarea = document.createElement('textarea');\n",
       "        textarea.textContent = fld.innerHTML;\n",
       "        textarea.style.position = 'fixed';\n",
       "        document.body.appendChild(textarea);\n",
       "        textarea.select();\n",
       "\n",
       "        try {\n",
       "            return document.execCommand('copy'); // Security exception may be thrown by some browsers.\n",
       "        } catch (ex) {\n",
       "\n",
       "        } finally {\n",
       "            document.body.removeChild(textarea);\n",
       "        }\n",
       "    }\n",
       "}\n",
       "function expandPanel(el) {\n",
       "  const panelName = \"#\" + el.getAttribute('paneName');\n",
       "\n",
       "  // Get the base URL of the current notebook\n",
       "  var baseUrl = window.location.origin;\n",
       "\n",
       "  // Construct the full URL\n",
       "  var fullUrl = new URL(el.title, baseUrl).href;\n",
       "\n",
       "  document.querySelector(panelName + \"-title\").innerHTML = fullUrl\n",
       "  iframe = document.querySelector(panelName + \"-body\");\n",
       "\n",
       "  const tblcss = `<style> body { font-family: Arial, Helvetica, sans-serif;}\n",
       "    #csv { margin-bottom: 15px; }\n",
       "    #csv table { border-collapse: collapse;}\n",
       "    #csv table td { padding: 4px 8px; border: 1px solid silver;} </style>`;\n",
       "\n",
       "  function csvToHtmlTable(str) {\n",
       "    return '<div id=\"csv\"><table><tr><td>' +  str.replace(/[\\n\\r]+$/g, '').replace(/[\\n\\r]+/g, '</td></tr><tr><td>')\n",
       "      .replace(/,/g, '</td><td>') + '</td></tr></table></div>';\n",
       "  }\n",
       "\n",
       "  function reqListener () {\n",
       "    if (fullUrl.endsWith(\".csv\")) {\n",
       "      iframe.setAttribute(\"srcdoc\", tblcss + csvToHtmlTable(this.responseText));\n",
       "    } else {\n",
       "      iframe.setAttribute(\"srcdoc\", this.responseText);\n",
       "    }\n",
       "    console.log(this.responseText);\n",
       "  }\n",
       "\n",
       "  const oReq = new XMLHttpRequest();\n",
       "  oReq.addEventListener(\"load\", reqListener);\n",
       "  oReq.open(\"GET\", fullUrl);\n",
       "  oReq.send();\n",
       "\n",
       "\n",
       "  //iframe.src = fullUrl;\n",
       "  const resultPane = document.querySelector(panelName + \"-pane\");\n",
       "  if (resultPane.classList.contains(\"hidden\")) {\n",
       "    resultPane.classList.remove(\"hidden\");\n",
       "  }\n",
       "}\n",
       "function closePanel(el) {\n",
       "  const panelName = \"#\" + el.getAttribute('paneName')\n",
       "  const resultPane = document.querySelector(panelName + \"-pane\");\n",
       "  if (!resultPane.classList.contains(\"hidden\")) {\n",
       "    resultPane.classList.add(\"hidden\");\n",
       "  }\n",
       "}\n",
       "\n",
       "</script>\n",
       "<div class=\"master-wrapper\">\n",
       "  <div class=\"block master-tbl\"><div>\n",
       "<style scoped>\n",
       "    .dataframe tbody tr th:only-of-type {\n",
       "        vertical-align: middle;\n",
       "    }\n",
       "\n",
       "    .dataframe tbody tr th {\n",
       "        vertical-align: top;\n",
       "    }\n",
       "\n",
       "    .dataframe thead th {\n",
       "        text-align: right;\n",
       "    }\n",
       "</style>\n",
       "<table border=\"1\" class=\"dataframe\">\n",
       "  <thead>\n",
       "    <tr style=\"text-align: right;\">\n",
       "      <th>project</th>\n",
       "      <th>uid</th>\n",
       "      <th>iter</th>\n",
       "      <th>start</th>\n",
       "      <th>end</th>\n",
       "      <th>state</th>\n",
       "      <th>kind</th>\n",
       "      <th>name</th>\n",
       "      <th>labels</th>\n",
       "      <th>inputs</th>\n",
       "      <th>parameters</th>\n",
       "      <th>results</th>\n",
       "    </tr>\n",
       "  </thead>\n",
       "  <tbody>\n",
       "    <tr>\n",
       "      <td>jw-proj</td>\n",
       "      <td><div title=\"5dd21a315e234e0ebf0beaf28287a836\">...87a836</div></td>\n",
       "      <td>0</td>\n",
       "      <td>Mar 14 13:48:49</td>\n",
       "      <td>NaT</td>\n",
       "      <td>running</td>\n",
       "      <td></td>\n",
       "      <td>func-compl-func</td>\n",
       "      <td><div class=\"dictlist\">v3io_user=normal-user</div><div class=\"dictlist\">kind=job</div><div class=\"dictlist\">owner=normal-user</div><div class=\"dictlist\">mlrun/client_version=1.8.0-rc41</div><div class=\"dictlist\">mlrun/client_python_version=3.9.13</div></td>\n",
       "      <td></td>\n",
       "      <td><div class=\"dictlist\">i=1</div></td>\n",
       "      <td></td>\n",
       "    </tr>\n",
       "  </tbody>\n",
       "</table>\n",
       "</div></div>\n",
       "  <div id=\"result0ae318dc-pane\" class=\"right-pane block hidden\">\n",
       "    <div class=\"pane-header\">\n",
       "      <span id=\"result0ae318dc-title\" class=\"pane-header-title\">Title</span>\n",
       "      <span onclick=\"closePanel(this)\" paneName=\"result0ae318dc\" class=\"close clickable\">&times;</span>\n",
       "    </div>\n",
       "    <iframe class=\"fileview\" id=\"result0ae318dc-body\"></iframe>\n",
       "  </div>\n",
       "</div>\n"
      ],
      "text/plain": [
       "<IPython.core.display.HTML object>"
      ]
     },
     "metadata": {},
     "output_type": "display_data"
    },
    {
     "name": "stdout",
     "output_type": "stream",
     "text": [
      "\n"
     ]
    },
    {
     "data": {
      "text/html": [
       "<b> > to track results use the .show() or .logs() methods </b>"
      ],
      "text/plain": [
       "<IPython.core.display.HTML object>"
      ]
     },
     "metadata": {},
     "output_type": "display_data"
    },
    {
     "name": "stdout",
     "output_type": "stream",
     "text": [
      "> 2025-03-14 15:48:49,869 [info] Run execution finished: {\"name\":\"func-compl-func\",\"status\":\"running\"}\n"
     ]
    },
    {
     "data": {
      "text/plain": [
       "<mlrun.model.RunObject at 0x28d20123790>"
      ]
     },
     "execution_count": 23,
     "metadata": {},
     "output_type": "execute_result"
    }
   ],
   "source": [
    "func_compl.run(params={\"i\": 1}, watch=False)"
   ]
  },
  {
   "cell_type": "markdown",
   "id": "8fa6570c-ec01-4d35-8b76-9e5279df2c90",
   "metadata": {},
   "source": [
    "## Workflow with status completed"
   ]
  },
  {
   "cell_type": "code",
   "execution_count": 24,
   "id": "181bdb6f-9935-48c2-a6d5-e6d8cdc4f14a",
   "metadata": {},
   "outputs": [
    {
     "name": "stdout",
     "output_type": "stream",
     "text": [
      "Writing ./workflow-compl.py\n"
     ]
    }
   ],
   "source": [
    "%%writefile ./workflow-compl.py\n",
    "\n",
    "\n",
    "import mlrun\n",
    "\n",
    "def pipeline():\n",
    "    \n",
    "    step_1 = mlrun.run_function(\"func-compl\",params={\"i\":1},outputs=[\"return\"])\n",
    "    step_2 = mlrun.run_function(\"func-compl\",params={\"i\":step_1.outputs[\"return\"]},outputs=[\"return\"])\n",
    "    step_3 = mlrun.run_function(\"func-compl\",params={\"i\":step_2.outputs[\"return\"]})"
   ]
  },
  {
   "cell_type": "code",
   "execution_count": 25,
   "id": "2cac6d06-6ae7-4115-9096-5d416a71ae8b",
   "metadata": {},
   "outputs": [],
   "source": [
    "project.set_workflow(\"main-compl\", \"./workflow-compl.py\")\n",
    "project.save()"
   ]
  },
  {
   "cell_type": "code",
   "execution_count": 61,
   "id": "db8c440e-2407-4f3c-aad3-f515dec4c6c2",
   "metadata": {},
   "outputs": [
    {
     "data": {
      "text/html": [
       "[info] Workflow started in project jw-proj id=0f325b3094f142459530bccd7af84043"
      ],
      "text/plain": [
       "<IPython.core.display.HTML object>"
      ]
     },
     "metadata": {},
     "output_type": "display_data"
    },
    {
     "name": "stdout",
     "output_type": "stream",
     "text": [
      "> 2025-03-14 16:21:06,934 [info] Storing function: {\"db\":null,\"name\":\"func-compl-func\",\"uid\":\"3d41782a48d14776a3fe4f2c3a18b86a\"}\n"
     ]
    },
    {
     "data": {
      "text/html": [
       "<style>\n",
       ".dictlist {\n",
       "  background-color: #4EC64B;\n",
       "  text-align: center;\n",
       "  margin: 4px;\n",
       "  border-radius: 3px; padding: 0px 3px 1px 3px; display: inline-block;}\n",
       ".artifact {\n",
       "  cursor: pointer;\n",
       "  background-color: #4EC64B;\n",
       "  text-align: left;\n",
       "  margin: 4px; border-radius: 3px; padding: 0px 3px 1px 3px; display: inline-block;\n",
       "}\n",
       "div.block.hidden {\n",
       "  display: none;\n",
       "}\n",
       ".clickable {\n",
       "  cursor: pointer;\n",
       "}\n",
       ".ellipsis {\n",
       "  display: inline-block;\n",
       "  max-width: 60px;\n",
       "  white-space: nowrap;\n",
       "  overflow: hidden;\n",
       "  text-overflow: ellipsis;\n",
       "}\n",
       ".master-wrapper {\n",
       "  display: flex;\n",
       "  flex-flow: row nowrap;\n",
       "  justify-content: flex-start;\n",
       "  align-items: stretch;\n",
       "}\n",
       ".master-tbl {\n",
       "  flex: 3\n",
       "}\n",
       ".master-wrapper > div {\n",
       "  margin: 4px;\n",
       "  padding: 10px;\n",
       "}\n",
       "iframe.fileview {\n",
       "  border: 0 none;\n",
       "  height: 100%;\n",
       "  width: 100%;\n",
       "  white-space: pre-wrap;\n",
       "}\n",
       ".pane-header-title {\n",
       "  width: 80%;\n",
       "  font-weight: 500;\n",
       "}\n",
       ".pane-header {\n",
       "  line-height: 1;\n",
       "  background-color: #4EC64B;\n",
       "  padding: 3px;\n",
       "}\n",
       ".pane-header .close {\n",
       "  font-size: 20px;\n",
       "  font-weight: 700;\n",
       "  float: right;\n",
       "  margin-top: -5px;\n",
       "}\n",
       ".master-wrapper .right-pane {\n",
       "  border: 1px inset silver;\n",
       "  width: 40%;\n",
       "  min-height: 300px;\n",
       "  flex: 3\n",
       "  min-width: 500px;\n",
       "}\n",
       ".master-wrapper * {\n",
       "  box-sizing: border-box;\n",
       "}\n",
       "</style><script>\n",
       "function copyToClipboard(fld) {\n",
       "    if (document.queryCommandSupported && document.queryCommandSupported('copy')) {\n",
       "        var textarea = document.createElement('textarea');\n",
       "        textarea.textContent = fld.innerHTML;\n",
       "        textarea.style.position = 'fixed';\n",
       "        document.body.appendChild(textarea);\n",
       "        textarea.select();\n",
       "\n",
       "        try {\n",
       "            return document.execCommand('copy'); // Security exception may be thrown by some browsers.\n",
       "        } catch (ex) {\n",
       "\n",
       "        } finally {\n",
       "            document.body.removeChild(textarea);\n",
       "        }\n",
       "    }\n",
       "}\n",
       "function expandPanel(el) {\n",
       "  const panelName = \"#\" + el.getAttribute('paneName');\n",
       "\n",
       "  // Get the base URL of the current notebook\n",
       "  var baseUrl = window.location.origin;\n",
       "\n",
       "  // Construct the full URL\n",
       "  var fullUrl = new URL(el.title, baseUrl).href;\n",
       "\n",
       "  document.querySelector(panelName + \"-title\").innerHTML = fullUrl\n",
       "  iframe = document.querySelector(panelName + \"-body\");\n",
       "\n",
       "  const tblcss = `<style> body { font-family: Arial, Helvetica, sans-serif;}\n",
       "    #csv { margin-bottom: 15px; }\n",
       "    #csv table { border-collapse: collapse;}\n",
       "    #csv table td { padding: 4px 8px; border: 1px solid silver;} </style>`;\n",
       "\n",
       "  function csvToHtmlTable(str) {\n",
       "    return '<div id=\"csv\"><table><tr><td>' +  str.replace(/[\\n\\r]+$/g, '').replace(/[\\n\\r]+/g, '</td></tr><tr><td>')\n",
       "      .replace(/,/g, '</td><td>') + '</td></tr></table></div>';\n",
       "  }\n",
       "\n",
       "  function reqListener () {\n",
       "    if (fullUrl.endsWith(\".csv\")) {\n",
       "      iframe.setAttribute(\"srcdoc\", tblcss + csvToHtmlTable(this.responseText));\n",
       "    } else {\n",
       "      iframe.setAttribute(\"srcdoc\", this.responseText);\n",
       "    }\n",
       "    console.log(this.responseText);\n",
       "  }\n",
       "\n",
       "  const oReq = new XMLHttpRequest();\n",
       "  oReq.addEventListener(\"load\", reqListener);\n",
       "  oReq.open(\"GET\", fullUrl);\n",
       "  oReq.send();\n",
       "\n",
       "\n",
       "  //iframe.src = fullUrl;\n",
       "  const resultPane = document.querySelector(panelName + \"-pane\");\n",
       "  if (resultPane.classList.contains(\"hidden\")) {\n",
       "    resultPane.classList.remove(\"hidden\");\n",
       "  }\n",
       "}\n",
       "function closePanel(el) {\n",
       "  const panelName = \"#\" + el.getAttribute('paneName')\n",
       "  const resultPane = document.querySelector(panelName + \"-pane\");\n",
       "  if (!resultPane.classList.contains(\"hidden\")) {\n",
       "    resultPane.classList.add(\"hidden\");\n",
       "  }\n",
       "}\n",
       "\n",
       "</script>\n",
       "<div class=\"master-wrapper\">\n",
       "  <div class=\"block master-tbl\"><div>\n",
       "<style scoped>\n",
       "    .dataframe tbody tr th:only-of-type {\n",
       "        vertical-align: middle;\n",
       "    }\n",
       "\n",
       "    .dataframe tbody tr th {\n",
       "        vertical-align: top;\n",
       "    }\n",
       "\n",
       "    .dataframe thead th {\n",
       "        text-align: right;\n",
       "    }\n",
       "</style>\n",
       "<table border=\"1\" class=\"dataframe\">\n",
       "  <thead>\n",
       "    <tr style=\"text-align: right;\">\n",
       "      <th>project</th>\n",
       "      <th>uid</th>\n",
       "      <th>iter</th>\n",
       "      <th>start</th>\n",
       "      <th>end</th>\n",
       "      <th>state</th>\n",
       "      <th>kind</th>\n",
       "      <th>name</th>\n",
       "      <th>labels</th>\n",
       "      <th>inputs</th>\n",
       "      <th>parameters</th>\n",
       "      <th>results</th>\n",
       "    </tr>\n",
       "  </thead>\n",
       "  <tbody>\n",
       "    <tr>\n",
       "      <td>jw-proj</td>\n",
       "      <td><div title=\"3d41782a48d14776a3fe4f2c3a18b86a\">...18b86a</div></td>\n",
       "      <td>0</td>\n",
       "      <td>Mar 14 14:21:43</td>\n",
       "      <td>NaT</td>\n",
       "      <td>completed</td>\n",
       "      <td>run</td>\n",
       "      <td>func-compl-func</td>\n",
       "      <td><div class=\"dictlist\">workflow=0f325b3094f142459530bccd7af84043</div><div class=\"dictlist\">v3io_user=normal-user</div><div class=\"dictlist\">kind=local</div><div class=\"dictlist\">owner=normal-user</div><div class=\"dictlist\">host=LWO1-LHP-A04834</div></td>\n",
       "      <td></td>\n",
       "      <td><div class=\"dictlist\">i=1</div></td>\n",
       "      <td><div class=\"dictlist\">return=2</div></td>\n",
       "    </tr>\n",
       "  </tbody>\n",
       "</table>\n",
       "</div></div>\n",
       "  <div id=\"result378acb4c-pane\" class=\"right-pane block hidden\">\n",
       "    <div class=\"pane-header\">\n",
       "      <span id=\"result378acb4c-title\" class=\"pane-header-title\">Title</span>\n",
       "      <span onclick=\"closePanel(this)\" paneName=\"result378acb4c\" class=\"close clickable\">&times;</span>\n",
       "    </div>\n",
       "    <iframe class=\"fileview\" id=\"result378acb4c-body\"></iframe>\n",
       "  </div>\n",
       "</div>\n"
      ],
      "text/plain": [
       "<IPython.core.display.HTML object>"
      ]
     },
     "metadata": {},
     "output_type": "display_data"
    },
    {
     "name": "stdout",
     "output_type": "stream",
     "text": [
      "\n"
     ]
    },
    {
     "data": {
      "text/html": [
       "<b> > to track results use the .show() or .logs() methods </b>"
      ],
      "text/plain": [
       "<IPython.core.display.HTML object>"
      ]
     },
     "metadata": {},
     "output_type": "display_data"
    },
    {
     "name": "stdout",
     "output_type": "stream",
     "text": [
      "> 2025-03-14 16:22:20,501 [info] Run execution finished: {\"name\":\"func-compl-func\",\"status\":\"completed\"}\n",
      "> 2025-03-14 16:22:20,503 [info] Storing function: {\"db\":null,\"name\":\"func-compl-func\",\"uid\":\"7d0c046c4cb14066bf2f830c872d4017\"}\n"
     ]
    },
    {
     "ename": "KeyboardInterrupt",
     "evalue": "",
     "output_type": "error",
     "traceback": [
      "\u001b[1;31m---------------------------------------------------------------------------\u001b[0m",
      "\u001b[1;31mKeyboardInterrupt\u001b[0m                         Traceback (most recent call last)",
      "Cell \u001b[1;32mIn[61], line 2\u001b[0m\n\u001b[0;32m      1\u001b[0m \u001b[39m# project.run(\"main-compl\", watch=False)\u001b[39;00m\n\u001b[1;32m----> 2\u001b[0m project\u001b[39m.\u001b[39;49mrun(\n\u001b[0;32m      3\u001b[0m     workflow_path\u001b[39m=\u001b[39;49m\u001b[39m\"\u001b[39;49m\u001b[39m./workflow-compl.py\u001b[39;49m\u001b[39m\"\u001b[39;49m,\n\u001b[0;32m      4\u001b[0m     watch\u001b[39m=\u001b[39;49m\u001b[39mFalse\u001b[39;49;00m,\n\u001b[0;32m      5\u001b[0m )\n",
      "File \u001b[1;32mc:\\Users\\tetiana.kharchuk\\test-notebooks-ui\\mlrun-env\\lib\\site-packages\\mlrun\\projects\\project.py:3546\u001b[0m, in \u001b[0;36mMlrunProject.run\u001b[1;34m(self, name, workflow_path, arguments, artifact_path, workflow_handler, namespace, sync, watch, dirty, engine, local, schedule, timeout, source, cleanup_ttl, notifications, workflow_runner_node_selector, context)\u001b[0m\n\u001b[0;32m   3540\u001b[0m     \u001b[39melse\u001b[39;00m:\n\u001b[0;32m   3541\u001b[0m         logger\u001b[39m.\u001b[39mwarn(\n\u001b[0;32m   3542\u001b[0m             \u001b[39m\"\u001b[39m\u001b[39m'\u001b[39m\u001b[39mworkflow_runner_node_selector\u001b[39m\u001b[39m'\u001b[39m\u001b[39m applies only to remote engines\u001b[39m\u001b[39m\"\u001b[39m\n\u001b[0;32m   3543\u001b[0m             \u001b[39m\"\u001b[39m\u001b[39m and is ignored for non-remote runs.\u001b[39m\u001b[39m\"\u001b[39m\n\u001b[0;32m   3544\u001b[0m         )\n\u001b[1;32m-> 3546\u001b[0m run \u001b[39m=\u001b[39m workflow_engine\u001b[39m.\u001b[39;49mrun(\n\u001b[0;32m   3547\u001b[0m     \u001b[39mself\u001b[39;49m,\n\u001b[0;32m   3548\u001b[0m     workflow_spec,\n\u001b[0;32m   3549\u001b[0m     name,\n\u001b[0;32m   3550\u001b[0m     workflow_handler\u001b[39m=\u001b[39;49mworkflow_handler,\n\u001b[0;32m   3551\u001b[0m     secrets\u001b[39m=\u001b[39;49m\u001b[39mself\u001b[39;49m\u001b[39m.\u001b[39;49m_secrets,\n\u001b[0;32m   3552\u001b[0m     artifact_path\u001b[39m=\u001b[39;49martifact_path,\n\u001b[0;32m   3553\u001b[0m     namespace\u001b[39m=\u001b[39;49mnamespace,\n\u001b[0;32m   3554\u001b[0m     source\u001b[39m=\u001b[39;49msource,\n\u001b[0;32m   3555\u001b[0m     notifications\u001b[39m=\u001b[39;49mnotifications,\n\u001b[0;32m   3556\u001b[0m     context\u001b[39m=\u001b[39;49mcontext,\n\u001b[0;32m   3557\u001b[0m )\n\u001b[0;32m   3558\u001b[0m \u001b[39m# run is None when scheduling\u001b[39;00m\n\u001b[0;32m   3559\u001b[0m \u001b[39mif\u001b[39;00m run \u001b[39mand\u001b[39;00m run\u001b[39m.\u001b[39mstate \u001b[39m==\u001b[39m mlrun_pipelines\u001b[39m.\u001b[39mcommon\u001b[39m.\u001b[39mmodels\u001b[39m.\u001b[39mRunStatuses\u001b[39m.\u001b[39mfailed:\n",
      "File \u001b[1;32mc:\\Users\\tetiana.kharchuk\\test-notebooks-ui\\mlrun-env\\lib\\site-packages\\mlrun\\projects\\pipelines.py:778\u001b[0m, in \u001b[0;36m_LocalRunner.run\u001b[1;34m(cls, project, workflow_spec, name, workflow_handler, secrets, artifact_path, namespace, source, notifications, context)\u001b[0m\n\u001b[0;32m    776\u001b[0m err \u001b[39m=\u001b[39m \u001b[39mNone\u001b[39;00m\n\u001b[0;32m    777\u001b[0m \u001b[39mtry\u001b[39;00m:\n\u001b[1;32m--> 778\u001b[0m     workflow_handler(\u001b[39m*\u001b[39m\u001b[39m*\u001b[39mworkflow_spec\u001b[39m.\u001b[39margs)\n\u001b[0;32m    779\u001b[0m     state \u001b[39m=\u001b[39m mlrun_pipelines\u001b[39m.\u001b[39mcommon\u001b[39m.\u001b[39mmodels\u001b[39m.\u001b[39mRunStatuses\u001b[39m.\u001b[39msucceeded\n\u001b[0;32m    780\u001b[0m \u001b[39mexcept\u001b[39;00m \u001b[39mException\u001b[39;00m \u001b[39mas\u001b[39;00m exc:\n",
      "File \u001b[1;32mc:\\Users\\tetiana.kharchuk\\test-notebooks-ui\\jobs_and_funcs\\workflow-compl.py:8\u001b[0m, in \u001b[0;36mpipeline\u001b[1;34m()\u001b[0m\n\u001b[0;32m      5\u001b[0m \u001b[39mdef\u001b[39;00m\u001b[39m \u001b[39m\u001b[39mpipeline\u001b[39m():\n\u001b[0;32m      7\u001b[0m     step_1 \u001b[39m=\u001b[39m mlrun\u001b[39m.\u001b[39mrun_function(\u001b[39m\"\u001b[39m\u001b[39mfunc-compl\u001b[39m\u001b[39m\"\u001b[39m,params\u001b[39m=\u001b[39m{\u001b[39m\"\u001b[39m\u001b[39mi\u001b[39m\u001b[39m\"\u001b[39m:\u001b[39m1\u001b[39m},outputs\u001b[39m=\u001b[39m[\u001b[39m\"\u001b[39m\u001b[39mreturn\u001b[39m\u001b[39m\"\u001b[39m])\n\u001b[1;32m----> 8\u001b[0m     step_2 \u001b[39m=\u001b[39m mlrun\u001b[39m.\u001b[39;49mrun_function(\u001b[39m\"\u001b[39;49m\u001b[39mfunc-compl\u001b[39;49m\u001b[39m\"\u001b[39;49m,params\u001b[39m=\u001b[39;49m{\u001b[39m\"\u001b[39;49m\u001b[39mi\u001b[39;49m\u001b[39m\"\u001b[39;49m:step_1\u001b[39m.\u001b[39;49moutputs[\u001b[39m\"\u001b[39;49m\u001b[39mreturn\u001b[39;49m\u001b[39m\"\u001b[39;49m]},outputs\u001b[39m=\u001b[39;49m[\u001b[39m\"\u001b[39;49m\u001b[39mreturn\u001b[39;49m\u001b[39m\"\u001b[39;49m])\n\u001b[0;32m      9\u001b[0m     step_3 \u001b[39m=\u001b[39m mlrun\u001b[39m.\u001b[39mrun_function(\u001b[39m\"\u001b[39m\u001b[39mfunc-compl\u001b[39m\u001b[39m\"\u001b[39m,params\u001b[39m=\u001b[39m{\u001b[39m\"\u001b[39m\u001b[39mi\u001b[39m\u001b[39m\"\u001b[39m:step_2\u001b[39m.\u001b[39moutputs[\u001b[39m\"\u001b[39m\u001b[39mreturn\u001b[39m\u001b[39m\"\u001b[39m]})\n",
      "File \u001b[1;32mc:\\Users\\tetiana.kharchuk\\test-notebooks-ui\\mlrun-env\\lib\\site-packages\\mlrun\\projects\\operations.py:213\u001b[0m, in \u001b[0;36mrun_function\u001b[1;34m(function, handler, name, params, hyperparams, hyper_param_options, inputs, outputs, workdir, labels, base_task, watch, local, verbose, selector, project_object, auto_build, schedule, artifact_path, notifications, returns, builder_env, reset_on_run)\u001b[0m\n\u001b[0;32m    211\u001b[0m \u001b[39mif\u001b[39;00m local \u001b[39mand\u001b[39;00m project \u001b[39mand\u001b[39;00m function\u001b[39m.\u001b[39mspec\u001b[39m.\u001b[39mbuild\u001b[39m.\u001b[39msource:\n\u001b[0;32m    212\u001b[0m     workdir \u001b[39m=\u001b[39m workdir \u001b[39mor\u001b[39;00m project\u001b[39m.\u001b[39mspec\u001b[39m.\u001b[39mget_code_path()\n\u001b[1;32m--> 213\u001b[0m run_result \u001b[39m=\u001b[39m function\u001b[39m.\u001b[39;49mrun(\n\u001b[0;32m    214\u001b[0m     name\u001b[39m=\u001b[39;49mname,\n\u001b[0;32m    215\u001b[0m     runspec\u001b[39m=\u001b[39;49mtask,\n\u001b[0;32m    216\u001b[0m     workdir\u001b[39m=\u001b[39;49mworkdir,\n\u001b[0;32m    217\u001b[0m     verbose\u001b[39m=\u001b[39;49mverbose,\n\u001b[0;32m    218\u001b[0m     watch\u001b[39m=\u001b[39;49mwatch,\n\u001b[0;32m    219\u001b[0m     local\u001b[39m=\u001b[39;49mlocal,\n\u001b[0;32m    220\u001b[0m     artifact_path\u001b[39m=\u001b[39;49martifact_path\n\u001b[0;32m    221\u001b[0m     \u001b[39m# workflow artifact_path has precedence over the project artifact_path equivalent to\u001b[39;49;00m\n\u001b[0;32m    222\u001b[0m     \u001b[39m# passing artifact_path to function.run() has precedence over the project.artifact_path and the default one\u001b[39;49;00m\n\u001b[0;32m    223\u001b[0m     \u001b[39mor\u001b[39;49;00m pipeline_context\u001b[39m.\u001b[39;49mworkflow_artifact_path\n\u001b[0;32m    224\u001b[0m     \u001b[39mor\u001b[39;49;00m (project\u001b[39m.\u001b[39;49martifact_path \u001b[39mif\u001b[39;49;00m project \u001b[39melse\u001b[39;49;00m \u001b[39mNone\u001b[39;49;00m),\n\u001b[0;32m    225\u001b[0m     auto_build\u001b[39m=\u001b[39;49mauto_build,\n\u001b[0;32m    226\u001b[0m     schedule\u001b[39m=\u001b[39;49mschedule,\n\u001b[0;32m    227\u001b[0m     notifications\u001b[39m=\u001b[39;49mnotifications,\n\u001b[0;32m    228\u001b[0m     builder_env\u001b[39m=\u001b[39;49mbuilder_env,\n\u001b[0;32m    229\u001b[0m     reset_on_run\u001b[39m=\u001b[39;49mreset_on_run,\n\u001b[0;32m    230\u001b[0m )\n\u001b[0;32m    231\u001b[0m \u001b[39mif\u001b[39;00m run_result:\n\u001b[0;32m    232\u001b[0m     run_result\u001b[39m.\u001b[39m_notified \u001b[39m=\u001b[39m \u001b[39mFalse\u001b[39;00m\n",
      "File \u001b[1;32mc:\\Users\\tetiana.kharchuk\\test-notebooks-ui\\mlrun-env\\lib\\site-packages\\mlrun\\runtimes\\base.py:410\u001b[0m, in \u001b[0;36mBaseRuntime.run\u001b[1;34m(self, runspec, handler, name, project, params, inputs, out_path, workdir, artifact_path, watch, schedule, hyperparams, hyper_param_options, verbose, scrape_metrics, local, local_code_path, auto_build, param_file_secrets, notifications, returns, state_thresholds, reset_on_run, **launcher_kwargs)\u001b[0m\n\u001b[0;32m    350\u001b[0m \u001b[39m\u001b[39m\u001b[39m\"\"\"\u001b[39;00m\n\u001b[0;32m    351\u001b[0m \u001b[39mRun a local or remote task.\u001b[39;00m\n\u001b[0;32m    352\u001b[0m \n\u001b[1;32m   (...)\u001b[0m\n\u001b[0;32m    405\u001b[0m \u001b[39m:return: Run context object (RunObject) with run metadata, results and status\u001b[39;00m\n\u001b[0;32m    406\u001b[0m \u001b[39m\"\"\"\u001b[39;00m\n\u001b[0;32m    407\u001b[0m launcher \u001b[39m=\u001b[39m mlrun\u001b[39m.\u001b[39mlauncher\u001b[39m.\u001b[39mfactory\u001b[39m.\u001b[39mLauncherFactory()\u001b[39m.\u001b[39mcreate_launcher(\n\u001b[0;32m    408\u001b[0m     \u001b[39mself\u001b[39m\u001b[39m.\u001b[39m_is_remote, local\u001b[39m=\u001b[39mlocal, \u001b[39m*\u001b[39m\u001b[39m*\u001b[39mlauncher_kwargs\n\u001b[0;32m    409\u001b[0m )\n\u001b[1;32m--> 410\u001b[0m \u001b[39mreturn\u001b[39;00m launcher\u001b[39m.\u001b[39;49mlaunch(\n\u001b[0;32m    411\u001b[0m     runtime\u001b[39m=\u001b[39;49m\u001b[39mself\u001b[39;49m,\n\u001b[0;32m    412\u001b[0m     task\u001b[39m=\u001b[39;49mrunspec,\n\u001b[0;32m    413\u001b[0m     handler\u001b[39m=\u001b[39;49mhandler,\n\u001b[0;32m    414\u001b[0m     name\u001b[39m=\u001b[39;49mname,\n\u001b[0;32m    415\u001b[0m     project\u001b[39m=\u001b[39;49mproject,\n\u001b[0;32m    416\u001b[0m     params\u001b[39m=\u001b[39;49mparams,\n\u001b[0;32m    417\u001b[0m     inputs\u001b[39m=\u001b[39;49minputs,\n\u001b[0;32m    418\u001b[0m     out_path\u001b[39m=\u001b[39;49mout_path,\n\u001b[0;32m    419\u001b[0m     workdir\u001b[39m=\u001b[39;49mworkdir,\n\u001b[0;32m    420\u001b[0m     artifact_path\u001b[39m=\u001b[39;49martifact_path,\n\u001b[0;32m    421\u001b[0m     watch\u001b[39m=\u001b[39;49mwatch,\n\u001b[0;32m    422\u001b[0m     schedule\u001b[39m=\u001b[39;49mschedule,\n\u001b[0;32m    423\u001b[0m     hyperparams\u001b[39m=\u001b[39;49mhyperparams,\n\u001b[0;32m    424\u001b[0m     hyper_param_options\u001b[39m=\u001b[39;49mhyper_param_options,\n\u001b[0;32m    425\u001b[0m     verbose\u001b[39m=\u001b[39;49mverbose,\n\u001b[0;32m    426\u001b[0m     scrape_metrics\u001b[39m=\u001b[39;49mscrape_metrics,\n\u001b[0;32m    427\u001b[0m     local_code_path\u001b[39m=\u001b[39;49mlocal_code_path,\n\u001b[0;32m    428\u001b[0m     auto_build\u001b[39m=\u001b[39;49mauto_build,\n\u001b[0;32m    429\u001b[0m     param_file_secrets\u001b[39m=\u001b[39;49mparam_file_secrets,\n\u001b[0;32m    430\u001b[0m     notifications\u001b[39m=\u001b[39;49mnotifications,\n\u001b[0;32m    431\u001b[0m     returns\u001b[39m=\u001b[39;49mreturns,\n\u001b[0;32m    432\u001b[0m     state_thresholds\u001b[39m=\u001b[39;49mstate_thresholds,\n\u001b[0;32m    433\u001b[0m     reset_on_run\u001b[39m=\u001b[39;49mreset_on_run,\n\u001b[0;32m    434\u001b[0m )\n",
      "File \u001b[1;32mc:\\Users\\tetiana.kharchuk\\test-notebooks-ui\\mlrun-env\\lib\\site-packages\\mlrun\\launcher\\local.py:126\u001b[0m, in \u001b[0;36mClientLocalLauncher.launch\u001b[1;34m(self, runtime, task, handler, name, project, params, inputs, out_path, workdir, artifact_path, watch, schedule, hyperparams, hyper_param_options, verbose, scrape_metrics, local_code_path, auto_build, param_file_secrets, notifications, returns, state_thresholds, reset_on_run)\u001b[0m\n\u001b[0;32m    106\u001b[0m run \u001b[39m=\u001b[39m \u001b[39mself\u001b[39m\u001b[39m.\u001b[39m_enrich_run(\n\u001b[0;32m    107\u001b[0m     runtime\u001b[39m=\u001b[39mruntime,\n\u001b[0;32m    108\u001b[0m     run\u001b[39m=\u001b[39mrun,\n\u001b[1;32m   (...)\u001b[0m\n\u001b[0;32m    123\u001b[0m     state_thresholds\u001b[39m=\u001b[39mstate_thresholds,\n\u001b[0;32m    124\u001b[0m )\n\u001b[0;32m    125\u001b[0m \u001b[39mself\u001b[39m\u001b[39m.\u001b[39m_validate_runtime(runtime, run)\n\u001b[1;32m--> 126\u001b[0m result \u001b[39m=\u001b[39m \u001b[39mself\u001b[39;49m\u001b[39m.\u001b[39;49m_execute(\n\u001b[0;32m    127\u001b[0m     runtime\u001b[39m=\u001b[39;49mruntime,\n\u001b[0;32m    128\u001b[0m     run\u001b[39m=\u001b[39;49mrun,\n\u001b[0;32m    129\u001b[0m )\n\u001b[0;32m    131\u001b[0m \u001b[39mreturn\u001b[39;00m result\n",
      "File \u001b[1;32mc:\\Users\\tetiana.kharchuk\\test-notebooks-ui\\mlrun-env\\lib\\site-packages\\mlrun\\launcher\\local.py:195\u001b[0m, in \u001b[0;36mClientLocalLauncher._execute\u001b[1;34m(self, runtime, run)\u001b[0m\n\u001b[0;32m    192\u001b[0m \u001b[39melse\u001b[39;00m:\n\u001b[0;32m    193\u001b[0m     \u001b[39m# single run\u001b[39;00m\n\u001b[0;32m    194\u001b[0m     \u001b[39mtry\u001b[39;00m:\n\u001b[1;32m--> 195\u001b[0m         resp \u001b[39m=\u001b[39m runtime\u001b[39m.\u001b[39;49m_run(run, execution)\n\u001b[0;32m    196\u001b[0m         result \u001b[39m=\u001b[39m runtime\u001b[39m.\u001b[39m_update_run_state(resp, task\u001b[39m=\u001b[39mrun)\n\u001b[0;32m    197\u001b[0m     \u001b[39mexcept\u001b[39;00m mlrun\u001b[39m.\u001b[39mruntimes\u001b[39m.\u001b[39mbase\u001b[39m.\u001b[39mRunError \u001b[39mas\u001b[39;00m err:\n",
      "File \u001b[1;32mc:\\Users\\tetiana.kharchuk\\test-notebooks-ui\\mlrun-env\\lib\\site-packages\\mlrun\\runtimes\\local.py:309\u001b[0m, in \u001b[0;36mLocalRuntime._run\u001b[1;34m(self, runobj, execution)\u001b[0m\n\u001b[0;32m    307\u001b[0m trackers_manager \u001b[39m=\u001b[39m \u001b[39mself\u001b[39m\u001b[39m.\u001b[39m_get_trackers_manager()\n\u001b[0;32m    308\u001b[0m trackers_manager\u001b[39m.\u001b[39mpre_run(context)\n\u001b[1;32m--> 309\u001b[0m sout, serr \u001b[39m=\u001b[39m exec_from_params(fn, runobj, context)\n\u001b[0;32m    310\u001b[0m \u001b[39m# If trackers where used, this is where we log all data collected to MLRun\u001b[39;00m\n\u001b[0;32m    311\u001b[0m context \u001b[39m=\u001b[39m trackers_manager\u001b[39m.\u001b[39mpost_run(context)\n",
      "File \u001b[1;32mc:\\Users\\tetiana.kharchuk\\test-notebooks-ui\\mlrun-env\\lib\\site-packages\\mlrun\\runtimes\\local.py:506\u001b[0m, in \u001b[0;36mexec_from_params\u001b[1;34m(handler, runobj, context, cwd)\u001b[0m\n\u001b[0;32m    502\u001b[0m \u001b[39m# Apply the MLRun handler decorator for parsing inputs using type hints and logging outputs using\u001b[39;00m\n\u001b[0;32m    503\u001b[0m \u001b[39m# log hints (Expected behavior: inputs are being parsed when they have type hints in code or given\u001b[39;00m\n\u001b[0;32m    504\u001b[0m \u001b[39m# by user. Outputs are logged only if log hints are provided by the user):\u001b[39;00m\n\u001b[0;32m    505\u001b[0m \u001b[39mif\u001b[39;00m mlrun\u001b[39m.\u001b[39mmlconf\u001b[39m.\u001b[39mpackagers\u001b[39m.\u001b[39menabled:\n\u001b[1;32m--> 506\u001b[0m     val \u001b[39m=\u001b[39m mlrun\u001b[39m.\u001b[39mhandler(\n\u001b[0;32m    507\u001b[0m         inputs\u001b[39m=\u001b[39m(\n\u001b[0;32m    508\u001b[0m             runobj\u001b[39m.\u001b[39mspec\u001b[39m.\u001b[39minputs_type_hints\n\u001b[0;32m    509\u001b[0m             \u001b[39mif\u001b[39;00m runobj\u001b[39m.\u001b[39mspec\u001b[39m.\u001b[39minputs_type_hints\n\u001b[0;32m    510\u001b[0m             \u001b[39melse\u001b[39;00m \u001b[39mTrue\u001b[39;00m  \u001b[39m# True will use type hints if provided in user's code.\u001b[39;00m\n\u001b[0;32m    511\u001b[0m         ),\n\u001b[0;32m    512\u001b[0m         outputs\u001b[39m=\u001b[39m(\n\u001b[0;32m    513\u001b[0m             runobj\u001b[39m.\u001b[39mspec\u001b[39m.\u001b[39mreturns\n\u001b[0;32m    514\u001b[0m             \u001b[39mif\u001b[39;00m runobj\u001b[39m.\u001b[39mspec\u001b[39m.\u001b[39mreturns\n\u001b[0;32m    515\u001b[0m             \u001b[39melse\u001b[39;00m \u001b[39mNone\u001b[39;00m  \u001b[39m# None will turn off outputs logging.\u001b[39;00m\n\u001b[0;32m    516\u001b[0m         ),\n\u001b[0;32m    517\u001b[0m     )(handler)(\u001b[39m*\u001b[39m\u001b[39m*\u001b[39mkwargs)\n\u001b[0;32m    518\u001b[0m \u001b[39melse\u001b[39;00m:\n\u001b[0;32m    519\u001b[0m     val \u001b[39m=\u001b[39m handler(\u001b[39m*\u001b[39m\u001b[39m*\u001b[39mkwargs)\n",
      "File \u001b[1;32mc:\\Users\\tetiana.kharchuk\\test-notebooks-ui\\mlrun-env\\lib\\site-packages\\mlrun\\package\\__init__.py:137\u001b[0m, in \u001b[0;36mhandler.<locals>.decorator.<locals>.wrapper\u001b[1;34m(*args, **kwargs)\u001b[0m\n\u001b[0;32m    132\u001b[0m     args \u001b[39m=\u001b[39m cxt_handler\u001b[39m.\u001b[39mparse_inputs(\n\u001b[0;32m    133\u001b[0m         args\u001b[39m=\u001b[39margs, kwargs\u001b[39m=\u001b[39mkwargs, type_hints\u001b[39m=\u001b[39minputs\n\u001b[0;32m    134\u001b[0m     )\n\u001b[0;32m    136\u001b[0m \u001b[39m# Call the original function and get the returning values:\u001b[39;00m\n\u001b[1;32m--> 137\u001b[0m func_outputs \u001b[39m=\u001b[39m func(\u001b[39m*\u001b[39margs, \u001b[39m*\u001b[39m\u001b[39m*\u001b[39mkwargs)\n\u001b[0;32m    139\u001b[0m \u001b[39m# If an MLRun context is found, set the given labels and log the returning values to MLRun via the context:\u001b[39;00m\n\u001b[0;32m    140\u001b[0m \u001b[39mif\u001b[39;00m cxt_handler\u001b[39m.\u001b[39mis_context_available():\n",
      "File \u001b[1;32mc:\\Users\\tetiana.kharchuk\\test-notebooks-ui\\jobs_and_funcs\\func-compl.py:4\u001b[0m, in \u001b[0;36mfunc\u001b[1;34m(i)\u001b[0m\n\u001b[0;32m      2\u001b[0m \u001b[39mdef\u001b[39;00m\u001b[39m \u001b[39m\u001b[39mfunc\u001b[39m(i):\n\u001b[0;32m      3\u001b[0m     i \u001b[39m=\u001b[39m i\u001b[39m+\u001b[39m\u001b[39m1\u001b[39m\n\u001b[1;32m----> 4\u001b[0m     time\u001b[39m.\u001b[39;49msleep(\u001b[39m20\u001b[39;49m)\n\u001b[0;32m      5\u001b[0m     \u001b[39mreturn\u001b[39;00m i\n",
      "\u001b[1;31mKeyboardInterrupt\u001b[0m: "
     ]
    }
   ],
   "source": [
    "# project.run(\"main-compl\", watch=False)\n",
    "project.run(\n",
    "    workflow_path=\"./workflow-compl.py\",\n",
    "    watch=False,\n",
    ")"
   ]
  },
  {
   "cell_type": "markdown",
   "id": "11a61011-e7da-4430-9766-1de41882b534",
   "metadata": {},
   "source": [
    "## Job with status aborted + wf with status error"
   ]
  },
  {
   "cell_type": "code",
   "execution_count": 28,
   "id": "61453fa7-ca01-4751-918d-50259c4bb7f6",
   "metadata": {},
   "outputs": [],
   "source": [
    "# project.run(\"main-compl\")"
   ]
  },
  {
   "cell_type": "code",
   "execution_count": 29,
   "id": "72e44cac-72bc-47cb-a424-a4e8d509b6a8",
   "metadata": {},
   "outputs": [],
   "source": [
    "# get running job uid from Overwiew or YAML\n",
    "# uid = \"d4df60806d6a4e85bfb6b5c137294266\""
   ]
  },
  {
   "cell_type": "code",
   "execution_count": 30,
   "id": "ff7ce95d-351c-41ca-b6a0-d10dad8289c0",
   "metadata": {},
   "outputs": [],
   "source": [
    "# db = mlrun.get_run_db()\n",
    "# db.abort_run(uid, project_name)"
   ]
  }
 ],
 "metadata": {
  "kernelspec": {
   "display_name": "mlrun-env",
   "language": "python",
   "name": "python3"
  },
  "language_info": {
   "codemirror_mode": {
    "name": "ipython",
    "version": 3
   },
   "file_extension": ".py",
   "mimetype": "text/x-python",
   "name": "python",
   "nbconvert_exporter": "python",
   "pygments_lexer": "ipython3",
   "version": "3.9.13"
  }
 },
 "nbformat": 4,
 "nbformat_minor": 5
}
