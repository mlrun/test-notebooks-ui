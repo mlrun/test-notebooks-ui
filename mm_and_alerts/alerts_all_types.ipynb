{
 "cells": [
  {
   "cell_type": "code",
   "execution_count": 13,
   "metadata": {},
   "outputs": [
    {
     "name": "stdout",
     "output_type": "stream",
     "text": [
      "> 2025-03-14 11:19:10,399 [info] Project loaded successfully: {\"project_name\":\"mm-alerts-proj\"}\n"
     ]
    }
   ],
   "source": [
    "import mlrun\n",
    "\n",
    "proj_obj_pdbcyn = mlrun.get_or_create_project(\"mm-alerts-proj\", context=\"./\")"
   ]
  },
  {
   "cell_type": "code",
   "execution_count": 31,
   "metadata": {},
   "outputs": [],
   "source": [
    "import mlrun.common.schemas.alert as alert_objects\n",
    "\n",
    "##git notification is expected to fail due to missing relevant params\n",
    "git_notification_vbOoh = mlrun.model.Notification(\n",
    "    kind=\"git\",\n",
    "    when=[\"completed\", \"error\"],\n",
    "    name=\"VbRJYIVNAYa\",\n",
    "    message=\"Alert_Notification_rsddFjiVxL\",\n",
    "    condition=\"\",\n",
    "    severity=\"debug\",\n",
    "    # secret_params={\"secret\": \"GIT_TOKEN_NOTIFY\"},\n",
    "    params={\"repo\": \"<repo>\", \"issue\": \"<issue>\", \"token\": \"<token>\"}\n",
    ").to_dict()\n",
    "webhook_notification_QmcAl = mlrun.model.Notification(\n",
    "    kind=\"webhook\",\n",
    "    when=[\"completed\", \"error\"],\n",
    "    severity=\"info\",\n",
    "    name=\"VbRJYIVNAY\",\n",
    "    message=\"Alert_Notification_rsddFjiVxL\",\n",
    "    condition=\"\",\n",
    "    params={\n",
    "        \"url\": \"https://webhook.site/57696af5-3edc-447f-a714-628275f2ed89\",\n",
    "        \"method\": \"POST\",\n",
    "    },\n",
    ").to_dict()\n",
    "notifications = [\n",
    "    alert_objects.AlertNotification(notification=git_notification_vbOoh),\n",
    "    alert_objects.AlertNotification(notification=webhook_notification_QmcAl),\n",
    "]"
   ]
  },
  {
   "cell_type": "code",
   "execution_count": 22,
   "metadata": {},
   "outputs": [],
   "source": [
    "import mlrun.common.schemas.alert as alert_constants\n",
    "from mlrun.common.schemas.alert import EventKind"
   ]
  },
  {
   "cell_type": "code",
   "execution_count": 23,
   "metadata": {},
   "outputs": [],
   "source": [
    "entity_id1 = \"test-func-oyn-handler\""
   ]
  },
  {
   "cell_type": "code",
   "execution_count": 32,
   "metadata": {},
   "outputs": [],
   "source": [
    "alert_obj_tnkjh_proj_teevduyumx = mlrun.alerts.alert.AlertConfig(\n",
    "    project=\"mm-alerts-proj\",\n",
    "    name=\"alert-name-obryv-proj-mm-alerts\",\n",
    "    summary=\"user_template_summary_failed\",\n",
    "    severity=alert_constants.AlertSeverity.LOW,\n",
    "    entities=alert_constants.EventEntities(\n",
    "        kind=alert_constants.EventEntityKind.JOB,\n",
    "        project=\"mm-alerts-proj\",\n",
    "        ids=[entity_id1],\n",
    "    ),\n",
    "    trigger=alert_constants.AlertTrigger(events=[EventKind.FAILED]),\n",
    "    notifications=notifications,\n",
    "    reset_policy=\"auto\",\n",
    "    criteria={\"count\": 1},\n",
    ")"
   ]
  },
  {
   "cell_type": "code",
   "execution_count": 33,
   "metadata": {},
   "outputs": [
    {
     "data": {
      "text/plain": [
       "<mlrun.alerts.alert.AlertConfig at 0x231defb9d60>"
      ]
     },
     "execution_count": 33,
     "metadata": {},
     "output_type": "execute_result"
    }
   ],
   "source": [
    "proj_obj_pdbcyn.store_alert_config(alert_obj_tnkjh_proj_teevduyumx)"
   ]
  },
  {
   "cell_type": "code",
   "execution_count": 34,
   "metadata": {},
   "outputs": [],
   "source": [
    "alert_obj_lcdeg_proj_teevduyumx = mlrun.alerts.alert.AlertConfig(\n",
    "    project=\"mm-alerts-proj\",\n",
    "    name=\"alert-name-ajbtp-proj-mm-alerts\",\n",
    "    summary=\"user_template_summary_failed\",\n",
    "    severity=alert_constants.AlertSeverity.LOW,\n",
    "    entities=alert_constants.EventEntities(\n",
    "        kind=alert_constants.EventEntityKind.JOB,\n",
    "        project=\"mm-alerts-proj\",\n",
    "        ids=[entity_id1],\n",
    "    ),\n",
    "    trigger=alert_constants.AlertTrigger(events=[EventKind.FAILED]),\n",
    "    notifications=[\n",
    "        alert_constants.AlertNotification(notification=webhook_notification_QmcAl)\n",
    "    ],\n",
    "    reset_policy=\"manual\",\n",
    "    criteria={\"count\": 1},\n",
    ")"
   ]
  },
  {
   "cell_type": "code",
   "execution_count": 35,
   "metadata": {},
   "outputs": [
    {
     "data": {
      "text/plain": [
       "<mlrun.alerts.alert.AlertConfig at 0x231defb1e80>"
      ]
     },
     "execution_count": 35,
     "metadata": {},
     "output_type": "execute_result"
    }
   ],
   "source": [
    "proj_obj_pdbcyn.store_alert_config(alert_obj_lcdeg_proj_teevduyumx)"
   ]
  },
  {
   "cell_type": "code",
   "execution_count": 36,
   "metadata": {},
   "outputs": [
    {
     "name": "stdout",
     "output_type": "stream",
     "text": [
      "Overwriting fnxot.py\n"
     ]
    }
   ],
   "source": [
    "%%writefile fnxot.py\n",
    "def handler():\n",
    "    raise Exception(\"This function intentionally fails\")\n",
    "            "
   ]
  },
  {
   "cell_type": "code",
   "execution_count": 37,
   "metadata": {},
   "outputs": [],
   "source": [
    "func_obj_pah = proj_obj_pdbcyn.set_function(\n",
    "    func=\"fnxot.py\",\n",
    "    name=\"test-func-oyn\",\n",
    "    kind=\"job\",\n",
    "    handler=\"handler\",\n",
    "    image=\"mlrun/mlrun\",\n",
    ")"
   ]
  },
  {
   "cell_type": "code",
   "execution_count": 38,
   "metadata": {},
   "outputs": [
    {
     "name": "stdout",
     "output_type": "stream",
     "text": [
      "> 2025-03-14 11:27:42,923 [info] Storing function: {\"db\":\"https://mlrun-api.default-tenant.app.vmdev54.lab.iguazeng.com\",\"name\":\"test-func-oyn-handler\",\"uid\":\"92fe6fc0d31c4011a4aee702ad7bf604\"}\n",
      "> 2025-03-14 11:27:43,953 [info] Job is running in the background, pod: test-func-oyn-handler-fmgn6\n"
     ]
    },
    {
     "data": {
      "text/html": [
       "<style>\n",
       ".dictlist {\n",
       "  background-color: #4EC64B;\n",
       "  text-align: center;\n",
       "  margin: 4px;\n",
       "  border-radius: 3px; padding: 0px 3px 1px 3px; display: inline-block;}\n",
       ".artifact {\n",
       "  cursor: pointer;\n",
       "  background-color: #4EC64B;\n",
       "  text-align: left;\n",
       "  margin: 4px; border-radius: 3px; padding: 0px 3px 1px 3px; display: inline-block;\n",
       "}\n",
       "div.block.hidden {\n",
       "  display: none;\n",
       "}\n",
       ".clickable {\n",
       "  cursor: pointer;\n",
       "}\n",
       ".ellipsis {\n",
       "  display: inline-block;\n",
       "  max-width: 60px;\n",
       "  white-space: nowrap;\n",
       "  overflow: hidden;\n",
       "  text-overflow: ellipsis;\n",
       "}\n",
       ".master-wrapper {\n",
       "  display: flex;\n",
       "  flex-flow: row nowrap;\n",
       "  justify-content: flex-start;\n",
       "  align-items: stretch;\n",
       "}\n",
       ".master-tbl {\n",
       "  flex: 3\n",
       "}\n",
       ".master-wrapper > div {\n",
       "  margin: 4px;\n",
       "  padding: 10px;\n",
       "}\n",
       "iframe.fileview {\n",
       "  border: 0 none;\n",
       "  height: 100%;\n",
       "  width: 100%;\n",
       "  white-space: pre-wrap;\n",
       "}\n",
       ".pane-header-title {\n",
       "  width: 80%;\n",
       "  font-weight: 500;\n",
       "}\n",
       ".pane-header {\n",
       "  line-height: 1;\n",
       "  background-color: #4EC64B;\n",
       "  padding: 3px;\n",
       "}\n",
       ".pane-header .close {\n",
       "  font-size: 20px;\n",
       "  font-weight: 700;\n",
       "  float: right;\n",
       "  margin-top: -5px;\n",
       "}\n",
       ".master-wrapper .right-pane {\n",
       "  border: 1px inset silver;\n",
       "  width: 40%;\n",
       "  min-height: 300px;\n",
       "  flex: 3\n",
       "  min-width: 500px;\n",
       "}\n",
       ".master-wrapper * {\n",
       "  box-sizing: border-box;\n",
       "}\n",
       "</style><script>\n",
       "function copyToClipboard(fld) {\n",
       "    if (document.queryCommandSupported && document.queryCommandSupported('copy')) {\n",
       "        var textarea = document.createElement('textarea');\n",
       "        textarea.textContent = fld.innerHTML;\n",
       "        textarea.style.position = 'fixed';\n",
       "        document.body.appendChild(textarea);\n",
       "        textarea.select();\n",
       "\n",
       "        try {\n",
       "            return document.execCommand('copy'); // Security exception may be thrown by some browsers.\n",
       "        } catch (ex) {\n",
       "\n",
       "        } finally {\n",
       "            document.body.removeChild(textarea);\n",
       "        }\n",
       "    }\n",
       "}\n",
       "function expandPanel(el) {\n",
       "  const panelName = \"#\" + el.getAttribute('paneName');\n",
       "\n",
       "  // Get the base URL of the current notebook\n",
       "  var baseUrl = window.location.origin;\n",
       "\n",
       "  // Construct the full URL\n",
       "  var fullUrl = new URL(el.title, baseUrl).href;\n",
       "\n",
       "  document.querySelector(panelName + \"-title\").innerHTML = fullUrl\n",
       "  iframe = document.querySelector(panelName + \"-body\");\n",
       "\n",
       "  const tblcss = `<style> body { font-family: Arial, Helvetica, sans-serif;}\n",
       "    #csv { margin-bottom: 15px; }\n",
       "    #csv table { border-collapse: collapse;}\n",
       "    #csv table td { padding: 4px 8px; border: 1px solid silver;} </style>`;\n",
       "\n",
       "  function csvToHtmlTable(str) {\n",
       "    return '<div id=\"csv\"><table><tr><td>' +  str.replace(/[\\n\\r]+$/g, '').replace(/[\\n\\r]+/g, '</td></tr><tr><td>')\n",
       "      .replace(/,/g, '</td><td>') + '</td></tr></table></div>';\n",
       "  }\n",
       "\n",
       "  function reqListener () {\n",
       "    if (fullUrl.endsWith(\".csv\")) {\n",
       "      iframe.setAttribute(\"srcdoc\", tblcss + csvToHtmlTable(this.responseText));\n",
       "    } else {\n",
       "      iframe.setAttribute(\"srcdoc\", this.responseText);\n",
       "    }\n",
       "    console.log(this.responseText);\n",
       "  }\n",
       "\n",
       "  const oReq = new XMLHttpRequest();\n",
       "  oReq.addEventListener(\"load\", reqListener);\n",
       "  oReq.open(\"GET\", fullUrl);\n",
       "  oReq.send();\n",
       "\n",
       "\n",
       "  //iframe.src = fullUrl;\n",
       "  const resultPane = document.querySelector(panelName + \"-pane\");\n",
       "  if (resultPane.classList.contains(\"hidden\")) {\n",
       "    resultPane.classList.remove(\"hidden\");\n",
       "  }\n",
       "}\n",
       "function closePanel(el) {\n",
       "  const panelName = \"#\" + el.getAttribute('paneName')\n",
       "  const resultPane = document.querySelector(panelName + \"-pane\");\n",
       "  if (!resultPane.classList.contains(\"hidden\")) {\n",
       "    resultPane.classList.add(\"hidden\");\n",
       "  }\n",
       "}\n",
       "\n",
       "</script>\n",
       "<div class=\"master-wrapper\">\n",
       "  <div class=\"block master-tbl\"><div>\n",
       "<style scoped>\n",
       "    .dataframe tbody tr th:only-of-type {\n",
       "        vertical-align: middle;\n",
       "    }\n",
       "\n",
       "    .dataframe tbody tr th {\n",
       "        vertical-align: top;\n",
       "    }\n",
       "\n",
       "    .dataframe thead th {\n",
       "        text-align: right;\n",
       "    }\n",
       "</style>\n",
       "<table border=\"1\" class=\"dataframe\">\n",
       "  <thead>\n",
       "    <tr style=\"text-align: right;\">\n",
       "      <th>project</th>\n",
       "      <th>uid</th>\n",
       "      <th>iter</th>\n",
       "      <th>start</th>\n",
       "      <th>end</th>\n",
       "      <th>state</th>\n",
       "      <th>kind</th>\n",
       "      <th>name</th>\n",
       "      <th>labels</th>\n",
       "      <th>inputs</th>\n",
       "      <th>parameters</th>\n",
       "      <th>results</th>\n",
       "    </tr>\n",
       "  </thead>\n",
       "  <tbody>\n",
       "    <tr>\n",
       "      <td>mm-alerts-proj</td>\n",
       "      <td><div title=\"92fe6fc0d31c4011a4aee702ad7bf604\"><a href=\"https://dashboard.default-tenant.app.vmdev54.lab.iguazeng.com/mlprojects/mm-alerts-proj/jobs/monitor/92fe6fc0d31c4011a4aee702ad7bf604/overview\" target=\"_blank\" >...ad7bf604</a></div></td>\n",
       "      <td>0</td>\n",
       "      <td>Mar 14 09:27:43</td>\n",
       "      <td>NaT</td>\n",
       "      <td>running</td>\n",
       "      <td></td>\n",
       "      <td>test-func-oyn-handler</td>\n",
       "      <td><div class=\"dictlist\">v3io_user=normal-user</div><div class=\"dictlist\">kind=job</div><div class=\"dictlist\">owner=normal-user</div><div class=\"dictlist\">mlrun/client_version=1.8.0-rc41</div><div class=\"dictlist\">mlrun/client_python_version=3.9.13</div></td>\n",
       "      <td></td>\n",
       "      <td></td>\n",
       "      <td></td>\n",
       "    </tr>\n",
       "  </tbody>\n",
       "</table>\n",
       "</div></div>\n",
       "  <div id=\"result4892fe58-pane\" class=\"right-pane block hidden\">\n",
       "    <div class=\"pane-header\">\n",
       "      <span id=\"result4892fe58-title\" class=\"pane-header-title\">Title</span>\n",
       "      <span onclick=\"closePanel(this)\" paneName=\"result4892fe58\" class=\"close clickable\">&times;</span>\n",
       "    </div>\n",
       "    <iframe class=\"fileview\" id=\"result4892fe58-body\"></iframe>\n",
       "  </div>\n",
       "</div>\n"
      ],
      "text/plain": [
       "<IPython.core.display.HTML object>"
      ]
     },
     "metadata": {},
     "output_type": "display_data"
    },
    {
     "name": "stdout",
     "output_type": "stream",
     "text": [
      "\n"
     ]
    },
    {
     "data": {
      "text/html": [
       "<b> > to track results use the .show() or .logs() methods  or <a href=\"https://dashboard.default-tenant.app.vmdev54.lab.iguazeng.com/mlprojects/mm-alerts-proj/jobs/monitor-jobs/test-func-oyn-handler/92fe6fc0d31c4011a4aee702ad7bf604/overview\" target=\"_blank\">click here</a> to open in UI</b>"
      ],
      "text/plain": [
       "<IPython.core.display.HTML object>"
      ]
     },
     "metadata": {},
     "output_type": "display_data"
    },
    {
     "name": "stdout",
     "output_type": "stream",
     "text": [
      "> 2025-03-14 11:27:43,975 [info] Run execution finished: {\"name\":\"test-func-oyn-handler\",\"status\":\"running\"}\n",
      "> 2025-03-14 11:27:44,264 [info] Storing function: {\"db\":\"https://mlrun-api.default-tenant.app.vmdev54.lab.iguazeng.com\",\"name\":\"test-func-oyn-handler\",\"uid\":\"f24ba4eca23b4372b293766eccee706a\"}\n",
      "> 2025-03-14 11:27:45,241 [info] Job is running in the background, pod: test-func-oyn-handler-n5qwd\n"
     ]
    },
    {
     "data": {
      "text/html": [
       "<style>\n",
       ".dictlist {\n",
       "  background-color: #4EC64B;\n",
       "  text-align: center;\n",
       "  margin: 4px;\n",
       "  border-radius: 3px; padding: 0px 3px 1px 3px; display: inline-block;}\n",
       ".artifact {\n",
       "  cursor: pointer;\n",
       "  background-color: #4EC64B;\n",
       "  text-align: left;\n",
       "  margin: 4px; border-radius: 3px; padding: 0px 3px 1px 3px; display: inline-block;\n",
       "}\n",
       "div.block.hidden {\n",
       "  display: none;\n",
       "}\n",
       ".clickable {\n",
       "  cursor: pointer;\n",
       "}\n",
       ".ellipsis {\n",
       "  display: inline-block;\n",
       "  max-width: 60px;\n",
       "  white-space: nowrap;\n",
       "  overflow: hidden;\n",
       "  text-overflow: ellipsis;\n",
       "}\n",
       ".master-wrapper {\n",
       "  display: flex;\n",
       "  flex-flow: row nowrap;\n",
       "  justify-content: flex-start;\n",
       "  align-items: stretch;\n",
       "}\n",
       ".master-tbl {\n",
       "  flex: 3\n",
       "}\n",
       ".master-wrapper > div {\n",
       "  margin: 4px;\n",
       "  padding: 10px;\n",
       "}\n",
       "iframe.fileview {\n",
       "  border: 0 none;\n",
       "  height: 100%;\n",
       "  width: 100%;\n",
       "  white-space: pre-wrap;\n",
       "}\n",
       ".pane-header-title {\n",
       "  width: 80%;\n",
       "  font-weight: 500;\n",
       "}\n",
       ".pane-header {\n",
       "  line-height: 1;\n",
       "  background-color: #4EC64B;\n",
       "  padding: 3px;\n",
       "}\n",
       ".pane-header .close {\n",
       "  font-size: 20px;\n",
       "  font-weight: 700;\n",
       "  float: right;\n",
       "  margin-top: -5px;\n",
       "}\n",
       ".master-wrapper .right-pane {\n",
       "  border: 1px inset silver;\n",
       "  width: 40%;\n",
       "  min-height: 300px;\n",
       "  flex: 3\n",
       "  min-width: 500px;\n",
       "}\n",
       ".master-wrapper * {\n",
       "  box-sizing: border-box;\n",
       "}\n",
       "</style><script>\n",
       "function copyToClipboard(fld) {\n",
       "    if (document.queryCommandSupported && document.queryCommandSupported('copy')) {\n",
       "        var textarea = document.createElement('textarea');\n",
       "        textarea.textContent = fld.innerHTML;\n",
       "        textarea.style.position = 'fixed';\n",
       "        document.body.appendChild(textarea);\n",
       "        textarea.select();\n",
       "\n",
       "        try {\n",
       "            return document.execCommand('copy'); // Security exception may be thrown by some browsers.\n",
       "        } catch (ex) {\n",
       "\n",
       "        } finally {\n",
       "            document.body.removeChild(textarea);\n",
       "        }\n",
       "    }\n",
       "}\n",
       "function expandPanel(el) {\n",
       "  const panelName = \"#\" + el.getAttribute('paneName');\n",
       "\n",
       "  // Get the base URL of the current notebook\n",
       "  var baseUrl = window.location.origin;\n",
       "\n",
       "  // Construct the full URL\n",
       "  var fullUrl = new URL(el.title, baseUrl).href;\n",
       "\n",
       "  document.querySelector(panelName + \"-title\").innerHTML = fullUrl\n",
       "  iframe = document.querySelector(panelName + \"-body\");\n",
       "\n",
       "  const tblcss = `<style> body { font-family: Arial, Helvetica, sans-serif;}\n",
       "    #csv { margin-bottom: 15px; }\n",
       "    #csv table { border-collapse: collapse;}\n",
       "    #csv table td { padding: 4px 8px; border: 1px solid silver;} </style>`;\n",
       "\n",
       "  function csvToHtmlTable(str) {\n",
       "    return '<div id=\"csv\"><table><tr><td>' +  str.replace(/[\\n\\r]+$/g, '').replace(/[\\n\\r]+/g, '</td></tr><tr><td>')\n",
       "      .replace(/,/g, '</td><td>') + '</td></tr></table></div>';\n",
       "  }\n",
       "\n",
       "  function reqListener () {\n",
       "    if (fullUrl.endsWith(\".csv\")) {\n",
       "      iframe.setAttribute(\"srcdoc\", tblcss + csvToHtmlTable(this.responseText));\n",
       "    } else {\n",
       "      iframe.setAttribute(\"srcdoc\", this.responseText);\n",
       "    }\n",
       "    console.log(this.responseText);\n",
       "  }\n",
       "\n",
       "  const oReq = new XMLHttpRequest();\n",
       "  oReq.addEventListener(\"load\", reqListener);\n",
       "  oReq.open(\"GET\", fullUrl);\n",
       "  oReq.send();\n",
       "\n",
       "\n",
       "  //iframe.src = fullUrl;\n",
       "  const resultPane = document.querySelector(panelName + \"-pane\");\n",
       "  if (resultPane.classList.contains(\"hidden\")) {\n",
       "    resultPane.classList.remove(\"hidden\");\n",
       "  }\n",
       "}\n",
       "function closePanel(el) {\n",
       "  const panelName = \"#\" + el.getAttribute('paneName')\n",
       "  const resultPane = document.querySelector(panelName + \"-pane\");\n",
       "  if (!resultPane.classList.contains(\"hidden\")) {\n",
       "    resultPane.classList.add(\"hidden\");\n",
       "  }\n",
       "}\n",
       "\n",
       "</script>\n",
       "<div class=\"master-wrapper\">\n",
       "  <div class=\"block master-tbl\"><div>\n",
       "<style scoped>\n",
       "    .dataframe tbody tr th:only-of-type {\n",
       "        vertical-align: middle;\n",
       "    }\n",
       "\n",
       "    .dataframe tbody tr th {\n",
       "        vertical-align: top;\n",
       "    }\n",
       "\n",
       "    .dataframe thead th {\n",
       "        text-align: right;\n",
       "    }\n",
       "</style>\n",
       "<table border=\"1\" class=\"dataframe\">\n",
       "  <thead>\n",
       "    <tr style=\"text-align: right;\">\n",
       "      <th>project</th>\n",
       "      <th>uid</th>\n",
       "      <th>iter</th>\n",
       "      <th>start</th>\n",
       "      <th>end</th>\n",
       "      <th>state</th>\n",
       "      <th>kind</th>\n",
       "      <th>name</th>\n",
       "      <th>labels</th>\n",
       "      <th>inputs</th>\n",
       "      <th>parameters</th>\n",
       "      <th>results</th>\n",
       "    </tr>\n",
       "  </thead>\n",
       "  <tbody>\n",
       "    <tr>\n",
       "      <td>mm-alerts-proj</td>\n",
       "      <td><div title=\"f24ba4eca23b4372b293766eccee706a\"><a href=\"https://dashboard.default-tenant.app.vmdev54.lab.iguazeng.com/mlprojects/mm-alerts-proj/jobs/monitor/f24ba4eca23b4372b293766eccee706a/overview\" target=\"_blank\" >...ccee706a</a></div></td>\n",
       "      <td>0</td>\n",
       "      <td>Mar 14 09:27:45</td>\n",
       "      <td>NaT</td>\n",
       "      <td>running</td>\n",
       "      <td></td>\n",
       "      <td>test-func-oyn-handler</td>\n",
       "      <td><div class=\"dictlist\">v3io_user=normal-user</div><div class=\"dictlist\">kind=job</div><div class=\"dictlist\">owner=normal-user</div><div class=\"dictlist\">mlrun/client_version=1.8.0-rc41</div><div class=\"dictlist\">mlrun/client_python_version=3.9.13</div></td>\n",
       "      <td></td>\n",
       "      <td></td>\n",
       "      <td></td>\n",
       "    </tr>\n",
       "  </tbody>\n",
       "</table>\n",
       "</div></div>\n",
       "  <div id=\"resulta5d39ee5-pane\" class=\"right-pane block hidden\">\n",
       "    <div class=\"pane-header\">\n",
       "      <span id=\"resulta5d39ee5-title\" class=\"pane-header-title\">Title</span>\n",
       "      <span onclick=\"closePanel(this)\" paneName=\"resulta5d39ee5\" class=\"close clickable\">&times;</span>\n",
       "    </div>\n",
       "    <iframe class=\"fileview\" id=\"resulta5d39ee5-body\"></iframe>\n",
       "  </div>\n",
       "</div>\n"
      ],
      "text/plain": [
       "<IPython.core.display.HTML object>"
      ]
     },
     "metadata": {},
     "output_type": "display_data"
    },
    {
     "name": "stdout",
     "output_type": "stream",
     "text": [
      "\n"
     ]
    },
    {
     "data": {
      "text/html": [
       "<b> > to track results use the .show() or .logs() methods  or <a href=\"https://dashboard.default-tenant.app.vmdev54.lab.iguazeng.com/mlprojects/mm-alerts-proj/jobs/monitor-jobs/test-func-oyn-handler/f24ba4eca23b4372b293766eccee706a/overview\" target=\"_blank\">click here</a> to open in UI</b>"
      ],
      "text/plain": [
       "<IPython.core.display.HTML object>"
      ]
     },
     "metadata": {},
     "output_type": "display_data"
    },
    {
     "name": "stdout",
     "output_type": "stream",
     "text": [
      "> 2025-03-14 11:27:45,262 [info] Run execution finished: {\"name\":\"test-func-oyn-handler\",\"status\":\"running\"}\n",
      "> 2025-03-14 11:27:45,608 [info] Storing function: {\"db\":\"https://mlrun-api.default-tenant.app.vmdev54.lab.iguazeng.com\",\"name\":\"test-func-oyn-handler\",\"uid\":\"70eeef29c235423f93bb77f205f742cc\"}\n",
      "> 2025-03-14 11:27:46,582 [info] Job is running in the background, pod: test-func-oyn-handler-5brjv\n"
     ]
    },
    {
     "data": {
      "text/html": [
       "<style>\n",
       ".dictlist {\n",
       "  background-color: #4EC64B;\n",
       "  text-align: center;\n",
       "  margin: 4px;\n",
       "  border-radius: 3px; padding: 0px 3px 1px 3px; display: inline-block;}\n",
       ".artifact {\n",
       "  cursor: pointer;\n",
       "  background-color: #4EC64B;\n",
       "  text-align: left;\n",
       "  margin: 4px; border-radius: 3px; padding: 0px 3px 1px 3px; display: inline-block;\n",
       "}\n",
       "div.block.hidden {\n",
       "  display: none;\n",
       "}\n",
       ".clickable {\n",
       "  cursor: pointer;\n",
       "}\n",
       ".ellipsis {\n",
       "  display: inline-block;\n",
       "  max-width: 60px;\n",
       "  white-space: nowrap;\n",
       "  overflow: hidden;\n",
       "  text-overflow: ellipsis;\n",
       "}\n",
       ".master-wrapper {\n",
       "  display: flex;\n",
       "  flex-flow: row nowrap;\n",
       "  justify-content: flex-start;\n",
       "  align-items: stretch;\n",
       "}\n",
       ".master-tbl {\n",
       "  flex: 3\n",
       "}\n",
       ".master-wrapper > div {\n",
       "  margin: 4px;\n",
       "  padding: 10px;\n",
       "}\n",
       "iframe.fileview {\n",
       "  border: 0 none;\n",
       "  height: 100%;\n",
       "  width: 100%;\n",
       "  white-space: pre-wrap;\n",
       "}\n",
       ".pane-header-title {\n",
       "  width: 80%;\n",
       "  font-weight: 500;\n",
       "}\n",
       ".pane-header {\n",
       "  line-height: 1;\n",
       "  background-color: #4EC64B;\n",
       "  padding: 3px;\n",
       "}\n",
       ".pane-header .close {\n",
       "  font-size: 20px;\n",
       "  font-weight: 700;\n",
       "  float: right;\n",
       "  margin-top: -5px;\n",
       "}\n",
       ".master-wrapper .right-pane {\n",
       "  border: 1px inset silver;\n",
       "  width: 40%;\n",
       "  min-height: 300px;\n",
       "  flex: 3\n",
       "  min-width: 500px;\n",
       "}\n",
       ".master-wrapper * {\n",
       "  box-sizing: border-box;\n",
       "}\n",
       "</style><script>\n",
       "function copyToClipboard(fld) {\n",
       "    if (document.queryCommandSupported && document.queryCommandSupported('copy')) {\n",
       "        var textarea = document.createElement('textarea');\n",
       "        textarea.textContent = fld.innerHTML;\n",
       "        textarea.style.position = 'fixed';\n",
       "        document.body.appendChild(textarea);\n",
       "        textarea.select();\n",
       "\n",
       "        try {\n",
       "            return document.execCommand('copy'); // Security exception may be thrown by some browsers.\n",
       "        } catch (ex) {\n",
       "\n",
       "        } finally {\n",
       "            document.body.removeChild(textarea);\n",
       "        }\n",
       "    }\n",
       "}\n",
       "function expandPanel(el) {\n",
       "  const panelName = \"#\" + el.getAttribute('paneName');\n",
       "\n",
       "  // Get the base URL of the current notebook\n",
       "  var baseUrl = window.location.origin;\n",
       "\n",
       "  // Construct the full URL\n",
       "  var fullUrl = new URL(el.title, baseUrl).href;\n",
       "\n",
       "  document.querySelector(panelName + \"-title\").innerHTML = fullUrl\n",
       "  iframe = document.querySelector(panelName + \"-body\");\n",
       "\n",
       "  const tblcss = `<style> body { font-family: Arial, Helvetica, sans-serif;}\n",
       "    #csv { margin-bottom: 15px; }\n",
       "    #csv table { border-collapse: collapse;}\n",
       "    #csv table td { padding: 4px 8px; border: 1px solid silver;} </style>`;\n",
       "\n",
       "  function csvToHtmlTable(str) {\n",
       "    return '<div id=\"csv\"><table><tr><td>' +  str.replace(/[\\n\\r]+$/g, '').replace(/[\\n\\r]+/g, '</td></tr><tr><td>')\n",
       "      .replace(/,/g, '</td><td>') + '</td></tr></table></div>';\n",
       "  }\n",
       "\n",
       "  function reqListener () {\n",
       "    if (fullUrl.endsWith(\".csv\")) {\n",
       "      iframe.setAttribute(\"srcdoc\", tblcss + csvToHtmlTable(this.responseText));\n",
       "    } else {\n",
       "      iframe.setAttribute(\"srcdoc\", this.responseText);\n",
       "    }\n",
       "    console.log(this.responseText);\n",
       "  }\n",
       "\n",
       "  const oReq = new XMLHttpRequest();\n",
       "  oReq.addEventListener(\"load\", reqListener);\n",
       "  oReq.open(\"GET\", fullUrl);\n",
       "  oReq.send();\n",
       "\n",
       "\n",
       "  //iframe.src = fullUrl;\n",
       "  const resultPane = document.querySelector(panelName + \"-pane\");\n",
       "  if (resultPane.classList.contains(\"hidden\")) {\n",
       "    resultPane.classList.remove(\"hidden\");\n",
       "  }\n",
       "}\n",
       "function closePanel(el) {\n",
       "  const panelName = \"#\" + el.getAttribute('paneName')\n",
       "  const resultPane = document.querySelector(panelName + \"-pane\");\n",
       "  if (!resultPane.classList.contains(\"hidden\")) {\n",
       "    resultPane.classList.add(\"hidden\");\n",
       "  }\n",
       "}\n",
       "\n",
       "</script>\n",
       "<div class=\"master-wrapper\">\n",
       "  <div class=\"block master-tbl\"><div>\n",
       "<style scoped>\n",
       "    .dataframe tbody tr th:only-of-type {\n",
       "        vertical-align: middle;\n",
       "    }\n",
       "\n",
       "    .dataframe tbody tr th {\n",
       "        vertical-align: top;\n",
       "    }\n",
       "\n",
       "    .dataframe thead th {\n",
       "        text-align: right;\n",
       "    }\n",
       "</style>\n",
       "<table border=\"1\" class=\"dataframe\">\n",
       "  <thead>\n",
       "    <tr style=\"text-align: right;\">\n",
       "      <th>project</th>\n",
       "      <th>uid</th>\n",
       "      <th>iter</th>\n",
       "      <th>start</th>\n",
       "      <th>end</th>\n",
       "      <th>state</th>\n",
       "      <th>kind</th>\n",
       "      <th>name</th>\n",
       "      <th>labels</th>\n",
       "      <th>inputs</th>\n",
       "      <th>parameters</th>\n",
       "      <th>results</th>\n",
       "    </tr>\n",
       "  </thead>\n",
       "  <tbody>\n",
       "    <tr>\n",
       "      <td>mm-alerts-proj</td>\n",
       "      <td><div title=\"70eeef29c235423f93bb77f205f742cc\"><a href=\"https://dashboard.default-tenant.app.vmdev54.lab.iguazeng.com/mlprojects/mm-alerts-proj/jobs/monitor/70eeef29c235423f93bb77f205f742cc/overview\" target=\"_blank\" >...05f742cc</a></div></td>\n",
       "      <td>0</td>\n",
       "      <td>Mar 14 09:27:46</td>\n",
       "      <td>NaT</td>\n",
       "      <td>running</td>\n",
       "      <td></td>\n",
       "      <td>test-func-oyn-handler</td>\n",
       "      <td><div class=\"dictlist\">v3io_user=normal-user</div><div class=\"dictlist\">kind=job</div><div class=\"dictlist\">owner=normal-user</div><div class=\"dictlist\">mlrun/client_version=1.8.0-rc41</div><div class=\"dictlist\">mlrun/client_python_version=3.9.13</div></td>\n",
       "      <td></td>\n",
       "      <td></td>\n",
       "      <td></td>\n",
       "    </tr>\n",
       "  </tbody>\n",
       "</table>\n",
       "</div></div>\n",
       "  <div id=\"resultbe0b089e-pane\" class=\"right-pane block hidden\">\n",
       "    <div class=\"pane-header\">\n",
       "      <span id=\"resultbe0b089e-title\" class=\"pane-header-title\">Title</span>\n",
       "      <span onclick=\"closePanel(this)\" paneName=\"resultbe0b089e\" class=\"close clickable\">&times;</span>\n",
       "    </div>\n",
       "    <iframe class=\"fileview\" id=\"resultbe0b089e-body\"></iframe>\n",
       "  </div>\n",
       "</div>\n"
      ],
      "text/plain": [
       "<IPython.core.display.HTML object>"
      ]
     },
     "metadata": {},
     "output_type": "display_data"
    },
    {
     "name": "stdout",
     "output_type": "stream",
     "text": [
      "\n"
     ]
    },
    {
     "data": {
      "text/html": [
       "<b> > to track results use the .show() or .logs() methods  or <a href=\"https://dashboard.default-tenant.app.vmdev54.lab.iguazeng.com/mlprojects/mm-alerts-proj/jobs/monitor-jobs/test-func-oyn-handler/70eeef29c235423f93bb77f205f742cc/overview\" target=\"_blank\">click here</a> to open in UI</b>"
      ],
      "text/plain": [
       "<IPython.core.display.HTML object>"
      ]
     },
     "metadata": {},
     "output_type": "display_data"
    },
    {
     "name": "stdout",
     "output_type": "stream",
     "text": [
      "> 2025-03-14 11:27:46,601 [info] Run execution finished: {\"name\":\"test-func-oyn-handler\",\"status\":\"running\"}\n"
     ]
    }
   ],
   "source": [
    "for i in range(3):\n",
    "    try:\n",
    "        proj_obj_pdbcyn.run_function(\"test-func-oyn\", watch=False)\n",
    "    except:\n",
    "        print(\"Internal error\")"
   ]
  },
  {
   "cell_type": "markdown",
   "metadata": {},
   "source": [
    "Model monitoring alerts"
   ]
  },
  {
   "cell_type": "code",
   "execution_count": 12,
   "metadata": {},
   "outputs": [
    {
     "name": "stdout",
     "output_type": "stream",
     "text": [
      "> 2025-03-13 16:26:56,768 [info] Project loaded successfully: {\"project_name\":\"mm-alerts-proj\"}\n"
     ]
    }
   ],
   "source": [
    "xfkqrz = mlrun.get_or_create_project(\"mm-alerts-proj\", context=\"./\")"
   ]
  },
  {
   "cell_type": "code",
   "execution_count": 13,
   "metadata": {},
   "outputs": [],
   "source": [
    "from mlrun.datastore.datastore_profile import DatastoreProfileV3io\n",
    "\n",
    "tsdb_profile = DatastoreProfileV3io(name=\"v3io-tsdb-profile\")\n",
    "xfkqrz.register_datastore_profile(tsdb_profile)\n",
    "\n",
    "stream_profile = DatastoreProfileV3io(\n",
    "    name=\"v3io-stream-profile\",\n",
    "    v3io_access_key=mlrun.mlconf.get_v3io_access_key(),\n",
    ")\n",
    "xfkqrz.register_datastore_profile(stream_profile)"
   ]
  },
  {
   "cell_type": "code",
   "execution_count": 14,
   "metadata": {},
   "outputs": [],
   "source": [
    "xfkqrz.set_model_monitoring_credentials(\n",
    "    tsdb_profile_name=tsdb_profile.name,\n",
    "    stream_profile_name=stream_profile.name,\n",
    ")"
   ]
  },
  {
   "cell_type": "code",
   "execution_count": 15,
   "metadata": {},
   "outputs": [
    {
     "name": "stdout",
     "output_type": "stream",
     "text": [
      "> 2025-03-13 16:26:57,533 [warning] enable_model_monitoring: 'base_period' < 10 minutes is not supported in production environments: {\"project\":\"mm-alerts-proj\"}\n",
      "2025-03-13 14:27:00  (info) Deploying function\n",
      "2025-03-13 14:27:00  (info) Building\n",
      "2025-03-13 14:27:01  (info) Staging files and preparing base images\n",
      "2025-03-13 14:27:01  (warn) Using user provided base image, runtime interpreter version is provided by the base image\n",
      "2025-03-13 14:27:01  (info) Building processor image\n",
      "2025-03-13 14:27:56  (info) Build complete\n",
      "2025-03-13 14:28:06  (info) Function deploy complete\n",
      "2025-03-13 14:26:57  (info) Deploying function\n",
      "2025-03-13 14:26:57  (info) Building\n",
      "2025-03-13 14:26:57  (info) Staging files and preparing base images\n",
      "2025-03-13 14:26:57  (warn) Using user provided base image, runtime interpreter version is provided by the base image\n",
      "2025-03-13 14:26:57  (info) Building processor image\n",
      "2025-03-13 14:27:53  (info) Build complete\n",
      "2025-03-13 14:28:39  (info) Function deploy complete\n",
      "2025-03-13 14:26:58  (info) Deploying function\n",
      "2025-03-13 14:26:58  (info) Building\n",
      "2025-03-13 14:26:59  (info) Staging files and preparing base images\n",
      "2025-03-13 14:26:59  (warn) Using user provided base image, runtime interpreter version is provided by the base image\n",
      "2025-03-13 14:26:59  (info) Building processor image\n",
      "2025-03-13 14:28:04  (info) Build complete\n",
      "2025-03-13 14:28:15  (info) Function deploy complete\n"
     ]
    }
   ],
   "source": [
    "xfkqrz.enable_model_monitoring(\n",
    "    base_period=1, deploy_histogram_data_drift_app=False, wait_for_deployment=True\n",
    ")"
   ]
  },
  {
   "cell_type": "code",
   "execution_count": 16,
   "metadata": {},
   "outputs": [],
   "source": [
    "from sklearn.svm import SVC\n",
    "import pickle\n",
    "from sklearn.datasets import load_iris\n",
    "\n",
    "iris = load_iris()\n",
    "clf = SVC()\n",
    "clf.fit(iris.data, iris.target)\n",
    "with open(\"RandomForestClassifier_file.py\", \"wb\") as fh:\n",
    "    pickle.dump(clf, fh)\n",
    "iris_data = iris[\"data\"].tolist()"
   ]
  },
  {
   "cell_type": "code",
   "execution_count": 17,
   "metadata": {},
   "outputs": [],
   "source": [
    "serving_fn_hqivq = mlrun.import_function(\n",
    "    \"hub://v2_model_server\", project=\"mm-alerts-proj\", new_name=\"serving-app-tsyno\"\n",
    ")"
   ]
  },
  {
   "cell_type": "code",
   "execution_count": 18,
   "metadata": {},
   "outputs": [
    {
     "data": {
      "text/plain": [
       "<mlrun.artifacts.model.ModelArtifact at 0x1490bb275e0>"
      ]
     },
     "execution_count": 18,
     "metadata": {},
     "output_type": "execute_result"
    }
   ],
   "source": [
    "import pandas as pd\n",
    "\n",
    "training_set_cols = [\n",
    "    \"sepal_length_cm\",\n",
    "    \"sepal_width_cm\",\n",
    "    \"petal_length_cm\",\n",
    "    \"petal_width_cm\",\n",
    "]\n",
    "if True:\n",
    "    training_set = pd.DataFrame(iris[\"data\"], columns=training_set_cols)\n",
    "else:\n",
    "    training_set = None\n",
    "xfkqrz.log_model(\n",
    "    \"RandomForestClassifier\",\n",
    "    model_file=\"RandomForestClassifier_file.py\",\n",
    "    training_set=training_set,\n",
    "    framework=\"sklearn\",\n",
    ")"
   ]
  },
  {
   "cell_type": "code",
   "execution_count": 19,
   "metadata": {},
   "outputs": [
    {
     "data": {
      "text/plain": [
       "<mlrun.serving.states.TaskStep at 0x1490bb27f40>"
      ]
     },
     "execution_count": 19,
     "metadata": {},
     "output_type": "execute_result"
    }
   ],
   "source": [
    "serving_fn_hqivq.add_model(\n",
    "    key=\"RandomForestClassifier\",\n",
    "    model_path=f\"store://models/mm-alerts-proj/RandomForestClassifier:latest\",\n",
    "    model_class=None,\n",
    "    creation_strategy=\"inplace\",\n",
    ")"
   ]
  },
  {
   "cell_type": "code",
   "execution_count": 20,
   "metadata": {},
   "outputs": [],
   "source": [
    "serving_fn_hqivq.set_tracking()"
   ]
  },
  {
   "cell_type": "code",
   "execution_count": 21,
   "metadata": {},
   "outputs": [
    {
     "name": "stdout",
     "output_type": "stream",
     "text": [
      "> 2025-03-13 16:29:01,365 [info] Starting remote function deploy\n",
      "2025-03-13 14:29:02  (info) Deploying function\n",
      "2025-03-13 14:29:02  (info) Building\n",
      "2025-03-13 14:29:02  (info) Staging files and preparing base images\n",
      "2025-03-13 14:29:02  (warn) Using user provided base image, runtime interpreter version is provided by the base image\n",
      "2025-03-13 14:29:02  (info) Building processor image\n",
      "2025-03-13 14:29:57  (info) Build complete\n",
      "2025-03-13 14:30:39  (info) Function deploy complete\n",
      "> 2025-03-13 16:30:44,279 [info] Model endpoint creation task completed with state succeeded\n",
      "> 2025-03-13 16:30:44,280 [info] Successfully deployed function: {\"external_invocation_urls\":[\"mm-alerts-proj-serving-app-tsyno.default-tenant.app.vmdev54.lab.iguazeng.com/\"],\"internal_invocation_urls\":[\"nuclio-mm-alerts-proj-serving-app-tsyno.default-tenant.svc.cluster.local:8080\"]}\n"
     ]
    },
    {
     "data": {
      "text/plain": [
       "'http://mm-alerts-proj-serving-app-tsyno.default-tenant.app.vmdev54.lab.iguazeng.com/'"
      ]
     },
     "execution_count": 21,
     "metadata": {},
     "output_type": "execute_result"
    }
   ],
   "source": [
    "serving_fn_hqivq.deploy()"
   ]
  },
  {
   "cell_type": "code",
   "execution_count": 22,
   "metadata": {},
   "outputs": [
    {
     "name": "stdout",
     "output_type": "stream",
     "text": [
      "Overwriting swfmr.py\n"
     ]
    }
   ],
   "source": [
    "%%writefile swfmr.py\n",
    "import pandas as pd\n",
    "import mlrun\n",
    "import random\n",
    "from typing import Union\n",
    "\n",
    "import mlrun.model_monitoring.applications as mm_applications\n",
    "import mlrun.model_monitoring.applications.context as mm_context\n",
    "import mlrun.model_monitoring.applications.results as mm_results\n",
    "from mlrun.common.schemas.model_monitoring.constants import (\n",
    "    ResultKindApp,\n",
    "    ResultStatusApp,\n",
    ")\n",
    "\n",
    "class WYHTAPA(mm_applications.ModelMonitoringApplicationBase):\n",
    "    name = \"wsqqyw\"\n",
    "    ##Inject code here##\n",
    "\n",
    "    def test_drift_dup(self, sample_df):\n",
    "        print(sample_df)\n",
    "        threshould = 10\n",
    "        cols = ['sepal_length_cm', 'sepal_width_cm', 'petal_length_cm', 'petal_width_cm']\n",
    "        for column in cols:\n",
    "            col_mean = sample_df[column].mean()\n",
    "            print(f\"col_mean {col_mean}\")\n",
    "            if col_mean > threshould:\n",
    "                result_kind = mlrun.common.schemas.model_monitoring.constants.ResultKindApp.data_drift\n",
    "                result_status = mlrun.common.schemas.model_monitoring.constants.ResultStatusApp.detected\n",
    "            else:\n",
    "                result_kind = mlrun.common.schemas.model_monitoring.constants.ResultKindApp.data_drift\n",
    "                result_status = mlrun.common.schemas.model_monitoring.constants.ResultStatusApp.potential_detection\n",
    "\n",
    "        return threshould, result_kind, result_status\n",
    "        \n",
    "    def test_drift(self, sample_df):\n",
    "        print(sample_df)\n",
    "        threshould = 10\n",
    "        cols = ['sepal_length_cm', 'sepal_width_cm', 'petal_length_cm', 'petal_width_cm']\n",
    "        for column in cols:\n",
    "            col_mean = sample_df[column].mean()\n",
    "            print(f\"col_mean {col_mean}\")\n",
    "            if col_mean > threshould:\n",
    "                result_kind = mlrun.common.schemas.model_monitoring.constants.ResultKindApp.data_drift\n",
    "                result_status = mlrun.common.schemas.model_monitoring.constants.ResultStatusApp.detected\n",
    "            else:\n",
    "                result_kind = mlrun.common.schemas.model_monitoring.constants.ResultKindApp.data_drift\n",
    "                result_status = mlrun.common.schemas.model_monitoring.constants.ResultStatusApp.potential_detection\n",
    "\n",
    "        return threshould, result_kind, result_status\n",
    "    \n",
    "    def do_tracking(\n",
    "        self,\n",
    "        monitoring_context: mm_context.MonitoringApplicationContext,\n",
    "    ) -> Union[mm_results.ModelMonitoringApplicationResult, list[mm_results.ModelMonitoringApplicationResult]]:\n",
    "        print(\"Running demo app\")\n",
    "        return_list = list()\n",
    "\n",
    "        result_value, result_kind, result_status = self.test_drift_dup(monitoring_context.sample_df)\n",
    "        result_obj = mm_results.ModelMonitoringApplicationResult(\n",
    "                     name=\"test_drift_dup\",\n",
    "                     value=result_value,\n",
    "                     kind=result_kind,\n",
    "                     status=result_status,\n",
    "                     extra_data={},\n",
    "                     )\n",
    "        return_list.append(result_obj)\n",
    "        \n",
    "\n",
    "        result_value, result_kind, result_status = self.test_drift(monitoring_context.sample_df)\n",
    "        result_obj = mm_results.ModelMonitoringApplicationResult(\n",
    "                     name=\"data_drift_test\",\n",
    "                     value=result_value,\n",
    "                     kind=result_kind,\n",
    "                     status=result_status,\n",
    "                     extra_data={},\n",
    "                     )\n",
    "        return_list.append(result_obj)\n",
    "                ##Inject metric run here##\n",
    "\n",
    "        return return_list\n"
   ]
  },
  {
   "cell_type": "code",
   "execution_count": 23,
   "metadata": {},
   "outputs": [
    {
     "name": "stdout",
     "output_type": "stream",
     "text": [
      "> 2025-03-13 16:30:45,079 [info] Starting remote function deploy\n",
      "2025-03-13 14:30:45  (info) Deploying function\n",
      "2025-03-13 14:30:45  (info) Building\n",
      "2025-03-13 14:30:45  (info) Staging files and preparing base images\n",
      "2025-03-13 14:30:45  (warn) Using user provided base image, runtime interpreter version is provided by the base image\n",
      "2025-03-13 14:30:45  (info) Building processor image\n",
      "2025-03-13 14:31:50  (info) Build complete\n",
      "2025-03-13 14:32:10  (info) Function deploy complete\n",
      "> 2025-03-13 16:32:17,598 [info] Model endpoint creation task completed with state succeeded\n",
      "> 2025-03-13 16:32:17,598 [info] Successfully deployed function: {\"external_invocation_urls\":[],\"internal_invocation_urls\":[\"nuclio-mm-alerts-proj-wsqqyw.default-tenant.svc.cluster.local:8080\"]}\n"
     ]
    },
    {
     "data": {
      "text/plain": [
       "DeployStatus(state=ready, outputs={'endpoint': 'http://nuclio-mm-alerts-proj-wsqqyw.default-tenant.svc.cluster.local:8080', 'name': 'mm-alerts-proj-wsqqyw'})"
      ]
     },
     "execution_count": 23,
     "metadata": {},
     "output_type": "execute_result"
    }
   ],
   "source": [
    "fn = xfkqrz.set_model_monitoring_function(\n",
    "    func=\"swfmr.py\",\n",
    "    application_class=\"WYHTAPA\",\n",
    "    image=\"quay.io/mlrun/mlrun\",\n",
    "    name=\"wsqqyw\",\n",
    ")\n",
    "xfkqrz.deploy_function(fn)"
   ]
  },
  {
   "cell_type": "code",
   "execution_count": 24,
   "metadata": {},
   "outputs": [
    {
     "name": "stdout",
     "output_type": "stream",
     "text": [
      "Overwriting sehhz.py\n"
     ]
    }
   ],
   "source": [
    "%%writefile sehhz.py\n",
    "import pandas as pd\n",
    "import mlrun\n",
    "import random\n",
    "from typing import Union\n",
    "\n",
    "import mlrun.model_monitoring.applications as mm_applications\n",
    "import mlrun.model_monitoring.applications.context as mm_context\n",
    "import mlrun.model_monitoring.applications.results as mm_results\n",
    "from mlrun.common.schemas.model_monitoring.constants import (\n",
    "    ResultKindApp,\n",
    "    ResultStatusApp,\n",
    ")\n",
    "\n",
    "class WYHTAPB(mm_applications.ModelMonitoringApplicationBase):\n",
    "    name = \"uqeirq\"\n",
    "    ##Inject code here##\n",
    "\n",
    "    def test_drift_dup(self, sample_df):\n",
    "        print(sample_df)\n",
    "        threshould = 10\n",
    "        cols = ['sepal_length_cm', 'sepal_width_cm', 'petal_length_cm', 'petal_width_cm']\n",
    "        for column in cols:\n",
    "            col_mean = sample_df[column].mean()\n",
    "            print(f\"col_mean {col_mean}\")\n",
    "            if col_mean > threshould:\n",
    "                result_kind = mlrun.common.schemas.model_monitoring.constants.ResultKindApp.concept_drift\n",
    "                result_status = mlrun.common.schemas.model_monitoring.constants.ResultStatusApp.detected\n",
    "            else:\n",
    "                result_kind = mlrun.common.schemas.model_monitoring.constants.ResultKindApp.concept_drift\n",
    "                result_status = mlrun.common.schemas.model_monitoring.constants.ResultStatusApp.potential_detection\n",
    "\n",
    "        return threshould, result_kind, result_status\n",
    "        \n",
    "    def test_drift(self, sample_df):\n",
    "        print(sample_df)\n",
    "        threshould = 10\n",
    "        cols = ['sepal_length_cm', 'sepal_width_cm', 'petal_length_cm', 'petal_width_cm']\n",
    "        for column in cols:\n",
    "            col_mean = sample_df[column].mean()\n",
    "            print(f\"col_mean {col_mean}\")\n",
    "            if col_mean > threshould:\n",
    "                result_kind = mlrun.common.schemas.model_monitoring.constants.ResultKindApp.concept_drift\n",
    "                result_status = mlrun.common.schemas.model_monitoring.constants.ResultStatusApp.detected\n",
    "            else:\n",
    "                result_kind = mlrun.common.schemas.model_monitoring.constants.ResultKindApp.concept_drift\n",
    "                result_status = mlrun.common.schemas.model_monitoring.constants.ResultStatusApp.potential_detection\n",
    "\n",
    "        return threshould, result_kind, result_status\n",
    "    \n",
    "    def do_tracking(\n",
    "        self,\n",
    "        monitoring_context: mm_context.MonitoringApplicationContext,\n",
    "    ) -> Union[mm_results.ModelMonitoringApplicationResult, list[mm_results.ModelMonitoringApplicationResult]]:\n",
    "        print(\"Running demo app\")\n",
    "        return_list = list()\n",
    "\n",
    "        result_value, result_kind, result_status = self.test_drift_dup(monitoring_context.sample_df)\n",
    "        result_obj = mm_results.ModelMonitoringApplicationResult(\n",
    "                     name=\"test_drift_dup\",\n",
    "                     value=result_value,\n",
    "                     kind=result_kind,\n",
    "                     status=result_status,\n",
    "                     extra_data={},\n",
    "                     )\n",
    "        return_list.append(result_obj)\n",
    "        \n",
    "\n",
    "        result_value, result_kind, result_status = self.test_drift(monitoring_context.sample_df)\n",
    "        result_obj = mm_results.ModelMonitoringApplicationResult(\n",
    "                     name=\"data_drift_test\",\n",
    "                     value=result_value,\n",
    "                     kind=result_kind,\n",
    "                     status=result_status,\n",
    "                     extra_data={},\n",
    "                     )\n",
    "        return_list.append(result_obj)\n",
    "                ##Inject metric run here##\n",
    "\n",
    "        return return_list\n"
   ]
  },
  {
   "cell_type": "code",
   "execution_count": 25,
   "metadata": {},
   "outputs": [
    {
     "name": "stdout",
     "output_type": "stream",
     "text": [
      "> 2025-03-13 16:32:18,393 [info] Starting remote function deploy\n",
      "2025-03-13 14:32:19  (info) Deploying function\n",
      "2025-03-13 14:32:19  (info) Building\n",
      "2025-03-13 14:32:19  (info) Staging files and preparing base images\n",
      "2025-03-13 14:32:19  (warn) Using user provided base image, runtime interpreter version is provided by the base image\n",
      "2025-03-13 14:32:19  (info) Building processor image\n",
      "2025-03-13 14:33:24  (info) Build complete\n",
      "2025-03-13 14:33:42  (info) Function deploy complete\n",
      "> 2025-03-13 16:33:51,072 [info] Model endpoint creation task completed with state succeeded\n",
      "> 2025-03-13 16:33:51,072 [info] Successfully deployed function: {\"external_invocation_urls\":[],\"internal_invocation_urls\":[\"nuclio-mm-alerts-proj-uqeirq.default-tenant.svc.cluster.local:8080\"]}\n"
     ]
    },
    {
     "data": {
      "text/plain": [
       "DeployStatus(state=ready, outputs={'endpoint': 'http://nuclio-mm-alerts-proj-uqeirq.default-tenant.svc.cluster.local:8080', 'name': 'mm-alerts-proj-uqeirq'})"
      ]
     },
     "execution_count": 25,
     "metadata": {},
     "output_type": "execute_result"
    }
   ],
   "source": [
    "fn = xfkqrz.set_model_monitoring_function(\n",
    "    func=\"sehhz.py\",\n",
    "    application_class=\"WYHTAPB\",\n",
    "    image=\"quay.io/mlrun/mlrun\",\n",
    "    name=\"uqeirq\",\n",
    ")\n",
    "xfkqrz.deploy_function(fn)"
   ]
  },
  {
   "cell_type": "code",
   "execution_count": 26,
   "metadata": {},
   "outputs": [
    {
     "name": "stdout",
     "output_type": "stream",
     "text": [
      "Overwriting vevgw.py\n"
     ]
    }
   ],
   "source": [
    "%%writefile vevgw.py\n",
    "import pandas as pd\n",
    "import mlrun\n",
    "import random\n",
    "from typing import Union\n",
    "\n",
    "import mlrun.model_monitoring.applications as mm_applications\n",
    "import mlrun.model_monitoring.applications.context as mm_context\n",
    "import mlrun.model_monitoring.applications.results as mm_results\n",
    "from mlrun.common.schemas.model_monitoring.constants import (\n",
    "    ResultKindApp,\n",
    "    ResultStatusApp,\n",
    ")\n",
    "\n",
    "class WYHTAPX(mm_applications.ModelMonitoringApplicationBase):\n",
    "    name = \"kmccns\"\n",
    "    ##Inject code here##\n",
    "\n",
    "    def test_drift_dup(self, sample_df):\n",
    "        print(sample_df)\n",
    "        threshould = 10\n",
    "        cols = ['sepal_length_cm', 'sepal_width_cm', 'petal_length_cm', 'petal_width_cm']\n",
    "        for column in cols:\n",
    "            col_mean = sample_df[column].mean()\n",
    "            print(f\"col_mean {col_mean}\")\n",
    "            if col_mean > threshould:\n",
    "                result_kind = mlrun.common.schemas.model_monitoring.constants.ResultKindApp.data_drift\n",
    "                result_status = mlrun.common.schemas.model_monitoring.constants.ResultStatusApp.detected\n",
    "            else:\n",
    "                result_kind = mlrun.common.schemas.model_monitoring.constants.ResultKindApp.data_drift\n",
    "                result_status = mlrun.common.schemas.model_monitoring.constants.ResultStatusApp.no_detection\n",
    "\n",
    "        return threshould, result_kind, result_status\n",
    "        \n",
    "    def test_drift(self, sample_df):\n",
    "        print(sample_df)\n",
    "        threshould = 10\n",
    "        cols = ['sepal_length_cm', 'sepal_width_cm', 'petal_length_cm', 'petal_width_cm']\n",
    "        for column in cols:\n",
    "            col_mean = sample_df[column].mean()\n",
    "            print(f\"col_mean {col_mean}\")\n",
    "            if col_mean > threshould:\n",
    "                result_kind = mlrun.common.schemas.model_monitoring.constants.ResultKindApp.data_drift\n",
    "                result_status = mlrun.common.schemas.model_monitoring.constants.ResultStatusApp.detected\n",
    "            else:\n",
    "                result_kind = mlrun.common.schemas.model_monitoring.constants.ResultKindApp.data_drift\n",
    "                result_status = mlrun.common.schemas.model_monitoring.constants.ResultStatusApp.no_detection\n",
    "\n",
    "        return threshould, result_kind, result_status\n",
    "    \n",
    "    def do_tracking(\n",
    "        self,\n",
    "        monitoring_context: mm_context.MonitoringApplicationContext,\n",
    "    ) -> Union[mm_results.ModelMonitoringApplicationResult, list[mm_results.ModelMonitoringApplicationResult]]:\n",
    "        print(\"Running demo app\")\n",
    "        raise ValueError(f\"This is an ERROR from app!\")\n",
    "        return_list = list()\n",
    "\n",
    "        result_value, result_kind, result_status = self.test_drift_dup(monitoring_context.sample_df)\n",
    "        result_obj = mm_results.ModelMonitoringApplicationResult(\n",
    "                     name=\"test_drift_dup\",\n",
    "                     value=result_value,\n",
    "                     kind=result_kind,\n",
    "                     status=result_status,\n",
    "                     extra_data={},\n",
    "                     )\n",
    "        return_list.append(result_obj)\n",
    "        \n",
    "\n",
    "        result_value, result_kind, result_status = self.test_drift(monitoring_context.sample_df)\n",
    "        result_obj = mm_results.ModelMonitoringApplicationResult(\n",
    "                     name=\"data_drift_test\",\n",
    "                     value=result_value,\n",
    "                     kind=result_kind,\n",
    "                     status=result_status,\n",
    "                     extra_data={},\n",
    "                     )\n",
    "        return_list.append(result_obj)\n",
    "                ##Inject metric run here##\n",
    "\n",
    "        return return_list"
   ]
  },
  {
   "cell_type": "code",
   "execution_count": 27,
   "metadata": {},
   "outputs": [
    {
     "name": "stdout",
     "output_type": "stream",
     "text": [
      "> 2025-03-13 16:33:51,828 [info] Starting remote function deploy\n",
      "2025-03-13 14:33:52  (info) Deploying function\n",
      "2025-03-13 14:33:52  (info) Building\n",
      "2025-03-13 14:33:52  (info) Staging files and preparing base images\n",
      "2025-03-13 14:33:52  (warn) Using user provided base image, runtime interpreter version is provided by the base image\n",
      "2025-03-13 14:33:52  (info) Building processor image\n",
      "2025-03-13 14:34:57  (info) Build complete\n",
      "2025-03-13 14:35:15  (info) Function deploy complete\n",
      "> 2025-03-13 16:35:24,282 [info] Model endpoint creation task completed with state succeeded\n",
      "> 2025-03-13 16:35:24,282 [info] Successfully deployed function: {\"external_invocation_urls\":[],\"internal_invocation_urls\":[\"nuclio-mm-alerts-proj-kmccns.default-tenant.svc.cluster.local:8080\"]}\n"
     ]
    },
    {
     "data": {
      "text/plain": [
       "DeployStatus(state=ready, outputs={'endpoint': 'http://nuclio-mm-alerts-proj-kmccns.default-tenant.svc.cluster.local:8080', 'name': 'mm-alerts-proj-kmccns'})"
      ]
     },
     "execution_count": 27,
     "metadata": {},
     "output_type": "execute_result"
    }
   ],
   "source": [
    "fn = xfkqrz.set_model_monitoring_function(\n",
    "    func=\"vevgw.py\",\n",
    "    application_class=\"WYHTAPX\",\n",
    "    image=\"quay.io/mlrun/mlrun\",\n",
    "    name=\"kmccns\",\n",
    ")\n",
    "xfkqrz.deploy_function(fn)"
   ]
  },
  {
   "cell_type": "code",
   "execution_count": 28,
   "metadata": {},
   "outputs": [],
   "source": [
    "##git notification is expected to fail due to missing relevant params\n",
    "git_notification_hWTYm = mlrun.common.schemas.Notification(\n",
    "    kind=\"git\",\n",
    "    when=[\"completed\", \"error\"],\n",
    "    name=\"mNvcMYqvjz\",\n",
    "    message=\"Alert_Notofication_ftgIhFxvWn\",\n",
    "    condition=\"\",\n",
    "    severity=\"warning\",\n",
    "    # secret_params={\"secret\": \"GIT_TOKEN_NOTIFY\"},\n",
    "    params={\"repo\": \"<repo>\", \"issue\": \"<issue>\", \"token\": \"<token>\"},\n",
    ")"
   ]
  },
  {
   "cell_type": "code",
   "execution_count": 29,
   "metadata": {},
   "outputs": [],
   "source": [
    "slack_notification_jtgeA = mlrun.model.Notification(\n",
    "    kind=\"slack\",\n",
    "    name=\"slack_notification\",\n",
    "    message=\"drift was detected\",\n",
    "    severity=\"warning\",\n",
    "    when=[\"now\"],\n",
    "    condition=\"failed\",\n",
    "    secret_params={\n",
    "        \"webhook\": \"https://hooks.slack.com/\",\n",
    "    },\n",
    ").to_dict()"
   ]
  },
  {
   "cell_type": "code",
   "execution_count": 30,
   "metadata": {},
   "outputs": [],
   "source": [
    "endpoints = mlrun.get_run_db().list_model_endpoints(project=\"mm-alerts-proj\")\n",
    "assert endpoints, \"No endpoint created\"\n",
    "ep_id_qgwtu = endpoints.endpoints[0].metadata.uid\n",
    "assert ep_id_qgwtu, \"No ep_id in location 0\""
   ]
  },
  {
   "cell_type": "code",
   "execution_count": 31,
   "metadata": {},
   "outputs": [],
   "source": [
    "import mlrun.common.schemas.alert as alert_constants\n",
    "from mlrun.model_monitoring.helpers import get_result_instance_fqn\n",
    "from mlrun.common.schemas.alert import EventKind"
   ]
  },
  {
   "cell_type": "code",
   "execution_count": 32,
   "metadata": {},
   "outputs": [],
   "source": [
    "insatnce_fqn_rkhoq_proj_teevduyumx = get_result_instance_fqn(\n",
    "    ep_id_qgwtu, app_name=\"wsqqyw\", result_name=\"data_drift_test\"\n",
    ")"
   ]
  },
  {
   "cell_type": "code",
   "execution_count": 33,
   "metadata": {},
   "outputs": [],
   "source": [
    "insatnce_fqn_cryta_proj_teevduyumx = get_result_instance_fqn(\n",
    "    ep_id_qgwtu, app_name=\"uqeirq\", result_name=\"data_drift_test\"\n",
    ")"
   ]
  },
  {
   "cell_type": "code",
   "execution_count": 34,
   "metadata": {},
   "outputs": [],
   "source": [
    "alert_obj_qhyga_proj_teevduyumx = mlrun.alerts.alert.AlertConfig(\n",
    "    project=\"mm-alerts-proj\",\n",
    "    name=\"alert-name-vcsws-proj-mm-alerts\",\n",
    "    summary=\"user_template_summary_EventKind.DATA_DRIFT_DETECTED\",\n",
    "    severity=alert_constants.AlertSeverity.HIGH,\n",
    "    entities=alert_constants.EventEntities(\n",
    "        kind=alert_constants.EventEntityKind.MODEL_ENDPOINT_RESULT,\n",
    "        project=\"mm-alerts-proj\",\n",
    "        ids=[insatnce_fqn_rkhoq_proj_teevduyumx],\n",
    "    ),\n",
    "    trigger=alert_constants.AlertTrigger(events=[EventKind.DATA_DRIFT_DETECTED]),\n",
    "    notifications=[\n",
    "        alert_constants.AlertNotification(notification=git_notification_hWTYm)\n",
    "    ],\n",
    "    reset_policy=\"auto\",\n",
    "    criteria=None,\n",
    ")"
   ]
  },
  {
   "cell_type": "code",
   "execution_count": 35,
   "metadata": {},
   "outputs": [
    {
     "data": {
      "text/plain": [
       "<mlrun.alerts.alert.AlertConfig at 0x1490baf3a30>"
      ]
     },
     "execution_count": 35,
     "metadata": {},
     "output_type": "execute_result"
    }
   ],
   "source": [
    "xfkqrz.store_alert_config(alert_obj_qhyga_proj_teevduyumx)"
   ]
  },
  {
   "cell_type": "code",
   "execution_count": 36,
   "metadata": {},
   "outputs": [],
   "source": [
    "alert_obj_rgblv_proj_teevduyumx = mlrun.alerts.alert.AlertConfig(\n",
    "    project=\"mm-alerts-proj\",\n",
    "    name=\"alert-name-iayls-proj-mm-alerts\",\n",
    "    summary=\"user_template_summary_EventKind.DATA_DRIFT_SUSPECTED\",\n",
    "    severity=alert_constants.AlertSeverity.HIGH,\n",
    "    entities=alert_constants.EventEntities(\n",
    "        kind=alert_constants.EventEntityKind.MODEL_ENDPOINT_RESULT,\n",
    "        project=\"mm-alerts-proj\",\n",
    "        ids=[insatnce_fqn_rkhoq_proj_teevduyumx],\n",
    "    ),\n",
    "    trigger=alert_constants.AlertTrigger(events=[EventKind.DATA_DRIFT_SUSPECTED]),\n",
    "    notifications=[\n",
    "        alert_constants.AlertNotification(notification=git_notification_hWTYm)\n",
    "    ],\n",
    "    reset_policy=\"auto\",\n",
    "    criteria=None,\n",
    ")"
   ]
  },
  {
   "cell_type": "code",
   "execution_count": 37,
   "metadata": {},
   "outputs": [
    {
     "data": {
      "text/plain": [
       "<mlrun.alerts.alert.AlertConfig at 0x1491bf06b20>"
      ]
     },
     "execution_count": 37,
     "metadata": {},
     "output_type": "execute_result"
    }
   ],
   "source": [
    "xfkqrz.store_alert_config(alert_obj_rgblv_proj_teevduyumx)"
   ]
  },
  {
   "cell_type": "code",
   "execution_count": 38,
   "metadata": {},
   "outputs": [],
   "source": [
    "### Duplication"
   ]
  },
  {
   "cell_type": "code",
   "execution_count": 39,
   "metadata": {},
   "outputs": [],
   "source": [
    "alert_objects = {}\n",
    "for i in range(1, 10):\n",
    "    var_name = f\"alert_obj_rgblv_proj_mm-alerts{i}\"\n",
    "    var_name = mlrun.alerts.alert.AlertConfig(\n",
    "        project=\"mm-alerts-proj\",\n",
    "        name=f\"alert-name-iayls-proj-mm-alerts{i}\",\n",
    "        summary=\"user_template_summary_EventKind.DATA_DRIFT_SUSPECTED\",\n",
    "        severity=alert_constants.AlertSeverity.HIGH,\n",
    "        entities=alert_constants.EventEntities(\n",
    "            kind=alert_constants.EventEntityKind.MODEL_ENDPOINT_RESULT,\n",
    "            project=\"mm-alerts-proj\",\n",
    "            ids=[insatnce_fqn_rkhoq_proj_teevduyumx],\n",
    "        ),\n",
    "        trigger=alert_constants.AlertTrigger(events=[EventKind.DATA_DRIFT_SUSPECTED]),\n",
    "        notifications=[\n",
    "            alert_constants.AlertNotification(notification=git_notification_hWTYm)\n",
    "        ],\n",
    "        reset_policy=\"auto\",\n",
    "        criteria=None,\n",
    "    )"
   ]
  },
  {
   "cell_type": "code",
   "execution_count": 40,
   "metadata": {},
   "outputs": [],
   "source": [
    "for alert in alert_objects.values():\n",
    "    xfkqrz.store_alert_config(alert)"
   ]
  },
  {
   "cell_type": "code",
   "execution_count": 41,
   "metadata": {},
   "outputs": [],
   "source": [
    "# end of duplication code"
   ]
  },
  {
   "cell_type": "code",
   "execution_count": 42,
   "metadata": {},
   "outputs": [],
   "source": [
    "alert_obj_fgqdv_proj_teevduyumx = mlrun.alerts.alert.AlertConfig(\n",
    "    project=\"mm-alerts-proj\",\n",
    "    name=\"alert-name-uhfwa-proj-mm-alerts\",\n",
    "    summary=\"user_template_summary_EventKind.CONCEPT_DRIFT_DETECTED\",\n",
    "    severity=alert_constants.AlertSeverity.HIGH,\n",
    "    entities=alert_constants.EventEntities(\n",
    "        kind=alert_constants.EventEntityKind.MODEL_ENDPOINT_RESULT,\n",
    "        project=\"mm-alerts-proj\",\n",
    "        ids=[insatnce_fqn_cryta_proj_teevduyumx],\n",
    "    ),\n",
    "    trigger=alert_constants.AlertTrigger(events=[EventKind.CONCEPT_DRIFT_DETECTED]),\n",
    "    notifications=[\n",
    "        alert_constants.AlertNotification(notification=git_notification_hWTYm)\n",
    "    ],\n",
    "    reset_policy=\"auto\",\n",
    "    criteria=None,\n",
    ")"
   ]
  },
  {
   "cell_type": "code",
   "execution_count": 43,
   "metadata": {},
   "outputs": [
    {
     "data": {
      "text/plain": [
       "<mlrun.alerts.alert.AlertConfig at 0x1490baf3580>"
      ]
     },
     "execution_count": 43,
     "metadata": {},
     "output_type": "execute_result"
    }
   ],
   "source": [
    "xfkqrz.store_alert_config(alert_obj_fgqdv_proj_teevduyumx)"
   ]
  },
  {
   "cell_type": "code",
   "execution_count": 44,
   "metadata": {},
   "outputs": [],
   "source": [
    "alert_obj_zqsvt_proj_teevduyumx = mlrun.alerts.alert.AlertConfig(\n",
    "    project=\"mm-alerts-proj\",\n",
    "    name=\"alert-name-wrrra-proj-mm-alerts\",\n",
    "    summary=\"user_template_summary_EventKind.CONCEPT_DRIFT_SUSPECTED\",\n",
    "    severity=alert_constants.AlertSeverity.HIGH,\n",
    "    entities=alert_constants.EventEntities(\n",
    "        kind=alert_constants.EventEntityKind.MODEL_ENDPOINT_RESULT,\n",
    "        project=\"mm-alerts-proj\",\n",
    "        ids=[insatnce_fqn_cryta_proj_teevduyumx],\n",
    "    ),\n",
    "    trigger=alert_constants.AlertTrigger(events=[EventKind.CONCEPT_DRIFT_SUSPECTED]),\n",
    "    notifications=[\n",
    "        alert_constants.AlertNotification(notification=git_notification_hWTYm)\n",
    "    ],\n",
    "    reset_policy=\"auto\",\n",
    "    criteria=None,\n",
    ")"
   ]
  },
  {
   "cell_type": "code",
   "execution_count": 45,
   "metadata": {},
   "outputs": [
    {
     "data": {
      "text/plain": [
       "<mlrun.alerts.alert.AlertConfig at 0x1490bb27d90>"
      ]
     },
     "execution_count": 45,
     "metadata": {},
     "output_type": "execute_result"
    }
   ],
   "source": [
    "xfkqrz.store_alert_config(alert_obj_zqsvt_proj_teevduyumx)"
   ]
  },
  {
   "cell_type": "code",
   "execution_count": 46,
   "metadata": {},
   "outputs": [],
   "source": [
    "entity_id = \"mm-alerts-proj_kmccns\"  # modifed"
   ]
  },
  {
   "cell_type": "code",
   "execution_count": 47,
   "metadata": {},
   "outputs": [],
   "source": [
    "alert_obj_lvknv_proj_ibstolsrlq = mlrun.alerts.alert.AlertConfig(\n",
    "    project=\"mm-alerts-proj\",  # should be project 1\n",
    "    name=\"alert-name-suabh-proj-mm-alerts\",\n",
    "    summary=\"user_template_summary_EventKind.MM_APP_FAILED\",\n",
    "    severity=alert_constants.AlertSeverity.HIGH,\n",
    "    entities=alert_constants.EventEntities(\n",
    "        kind=alert_constants.EventEntityKind.MODEL_MONITORING_APPLICATION,\n",
    "        project=\"mm-alerts-proj\",\n",
    "        ids=[entity_id],\n",
    "    ),\n",
    "    trigger=alert_constants.AlertTrigger(events=[EventKind.MM_APP_FAILED]),\n",
    "    notifications=[\n",
    "        alert_constants.AlertNotification(notification=slack_notification_jtgeA)\n",
    "    ],\n",
    "    reset_policy=\"auto\",  # also modified\n",
    "    criteria=None,\n",
    ")"
   ]
  },
  {
   "cell_type": "code",
   "execution_count": 48,
   "metadata": {},
   "outputs": [
    {
     "data": {
      "text/plain": [
       "<mlrun.alerts.alert.AlertConfig at 0x1491bf061f0>"
      ]
     },
     "execution_count": 48,
     "metadata": {},
     "output_type": "execute_result"
    }
   ],
   "source": [
    "xfkqrz.store_alert_config(alert_obj_lvknv_proj_ibstolsrlq)"
   ]
  },
  {
   "cell_type": "code",
   "execution_count": 49,
   "metadata": {},
   "outputs": [
    {
     "name": "stdout",
     "output_type": "stream",
     "text": [
      "Overwriting ./sch.py\n"
     ]
    }
   ],
   "source": [
    "%%writefile ./sch.py\n",
    "from sklearn.datasets import load_iris\n",
    "import random\n",
    "import mlrun\n",
    "\n",
    "def invoke_model(context):\n",
    "    project_name = \"mm-alerts-proj\"\n",
    "    project = mlrun.get_or_create_project(project_name, context=\"./\")\n",
    "    \n",
    "    iris = load_iris()\n",
    "    iris_data = iris[\"data\"].tolist()\n",
    "    input_count = random.randint(10, 100)\n",
    "    bltmtadg = random.sample(iris_data, input_count)\n",
    "    new_list = list()\n",
    "    for i in bltmtadg:\n",
    "        temp_list = list()\n",
    "        for j in i:\n",
    "            temp_list.append(j*20)\n",
    "        new_list.append(temp_list)\n",
    "    igednkec = random.sample(new_list, input_count)\n",
    "\n",
    "    serving_fn_hqivq = project.get_function(\"serving-app-tsyno\")\n",
    "     \n",
    "    serving_fn_hqivq.invoke(path=\"/v2/models/RandomForestClassifier/infer\", body={\"inputs\": igednkec})"
   ]
  },
  {
   "cell_type": "code",
   "execution_count": 50,
   "metadata": {},
   "outputs": [
    {
     "data": {
      "text/plain": [
       "<mlrun.runtimes.kubejob.KubejobRuntime at 0x1491aaea250>"
      ]
     },
     "execution_count": 50,
     "metadata": {},
     "output_type": "execute_result"
    }
   ],
   "source": [
    "function = mlrun.code_to_function(\n",
    "    name=\"invoke_model\",\n",
    "    kind=\"job\",\n",
    "    filename=\"sch.py\",\n",
    "    handler=\"invoke_model\",\n",
    "    image=\"mlrun/mlrun\",\n",
    ")\n",
    "\n",
    "xfkqrz.set_function(function)"
   ]
  },
  {
   "cell_type": "code",
   "execution_count": 51,
   "metadata": {},
   "outputs": [
    {
     "name": "stderr",
     "output_type": "stream",
     "text": [
      "The `overwrite_build_params` parameter default will change from 'False' to 'True' in 1.9.0.\n"
     ]
    },
    {
     "data": {
      "text/plain": [
       "BuildStatus(ready=True, outputs={'image': 'mlrun/mlrun'})"
      ]
     },
     "execution_count": 51,
     "metadata": {},
     "output_type": "execute_result"
    }
   ],
   "source": [
    "xfkqrz.save()\n",
    "xfkqrz.build_function(function)"
   ]
  },
  {
   "cell_type": "code",
   "execution_count": 52,
   "metadata": {},
   "outputs": [
    {
     "name": "stdout",
     "output_type": "stream",
     "text": [
      "> 2025-03-13 16:35:29,158 [info] Storing function: {\"db\":\"https://mlrun-api.default-tenant.app.vmdev54.lab.iguazeng.com\",\"name\":\"invoke-model-scheduler\",\"uid\":\"db45f5fd9122486196e8944d7a3b4e85\"}\n"
     ]
    },
    {
     "name": "stderr",
     "output_type": "stream",
     "text": [
      "Names with underscore '_' are about to be deprecated, use dashes '-' instead. Replacing 'invoke_model_scheduler' underscores with dashes.\n"
     ]
    },
    {
     "name": "stdout",
     "output_type": "stream",
     "text": [
      "> 2025-03-13 16:35:30,104 [info] Task schedule created: {\"name\":\"invoke-model-scheduler\",\"project\":\"mm-alerts-proj\",\"schedule\":\"*/7 * * * *\"}\n"
     ]
    }
   ],
   "source": [
    "xfkqrz.run_function(\n",
    "    function,\n",
    "    name=\"invoke_model_scheduler\",\n",
    "    schedule=\"*/7 * * * *\",  # Cron expression for every 7 minutes\n",
    ")"
   ]
  }
 ],
 "metadata": {
  "kernelspec": {
   "display_name": "venv",
   "language": "python",
   "name": "python3"
  },
  "language_info": {
   "codemirror_mode": {
    "name": "ipython",
    "version": 3
   },
   "file_extension": ".py",
   "mimetype": "text/x-python",
   "name": "python",
   "nbconvert_exporter": "python",
   "pygments_lexer": "ipython3",
   "version": "3.9.13"
  }
 },
 "nbformat": 4,
 "nbformat_minor": 4
}
